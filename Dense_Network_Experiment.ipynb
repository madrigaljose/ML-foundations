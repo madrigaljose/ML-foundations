{
  "nbformat": 4,
  "nbformat_minor": 0,
  "metadata": {
    "colab": {
      "name": "Dense_Network_Experiment.ipynb",
      "provenance": [],
      "collapsed_sections": [],
      "include_colab_link": true
    },
    "kernelspec": {
      "name": "python3",
      "display_name": "Python 3"
    },
    "language_info": {
      "name": "python"
    }
  },
  "cells": [
    {
      "cell_type": "markdown",
      "metadata": {
        "id": "view-in-github",
        "colab_type": "text"
      },
      "source": [
        "<a href=\"https://colab.research.google.com/github/madrigaljose/ML-foundations/blob/master/Dense_Network_Experiment.ipynb\" target=\"_parent\"><img src=\"https://colab.research.google.com/assets/colab-badge.svg\" alt=\"Open In Colab\"/></a>"
      ]
    },
    {
      "cell_type": "code",
      "metadata": {
        "id": "v59huRLzkPxX"
      },
      "source": [
        "import keras\n",
        "import tensorflow\n",
        "import pandas as pd\n",
        "import numpy as np\n",
        "\n",
        "from keras.datasets import mnist\n",
        "from keras.models import Sequential\n",
        "from keras.layers import Dense\n",
        "from keras.optimizers import SGD"
      ],
      "execution_count": 117,
      "outputs": []
    },
    {
      "cell_type": "code",
      "metadata": {
        "colab": {
          "base_uri": "https://localhost:8080/",
          "height": 195
        },
        "id": "RPxwxKlvRaji",
        "outputId": "11b6fc44-6fb3-4d72-f98f-379c314ed8c8"
      },
      "source": [
        "from seaborn import load_dataset\n",
        "iris_df = load_dataset(\"iris\")\n",
        "iris_df.species = pd.Categorical(iris_df.species, categories=['setosa','versicolor','virginica'])\n",
        "iris_df.head()"
      ],
      "execution_count": 118,
      "outputs": [
        {
          "output_type": "execute_result",
          "data": {
            "text/html": [
              "<div>\n",
              "<style scoped>\n",
              "    .dataframe tbody tr th:only-of-type {\n",
              "        vertical-align: middle;\n",
              "    }\n",
              "\n",
              "    .dataframe tbody tr th {\n",
              "        vertical-align: top;\n",
              "    }\n",
              "\n",
              "    .dataframe thead th {\n",
              "        text-align: right;\n",
              "    }\n",
              "</style>\n",
              "<table border=\"1\" class=\"dataframe\">\n",
              "  <thead>\n",
              "    <tr style=\"text-align: right;\">\n",
              "      <th></th>\n",
              "      <th>sepal_length</th>\n",
              "      <th>sepal_width</th>\n",
              "      <th>petal_length</th>\n",
              "      <th>petal_width</th>\n",
              "      <th>species</th>\n",
              "    </tr>\n",
              "  </thead>\n",
              "  <tbody>\n",
              "    <tr>\n",
              "      <th>0</th>\n",
              "      <td>5.1</td>\n",
              "      <td>3.5</td>\n",
              "      <td>1.4</td>\n",
              "      <td>0.2</td>\n",
              "      <td>setosa</td>\n",
              "    </tr>\n",
              "    <tr>\n",
              "      <th>1</th>\n",
              "      <td>4.9</td>\n",
              "      <td>3.0</td>\n",
              "      <td>1.4</td>\n",
              "      <td>0.2</td>\n",
              "      <td>setosa</td>\n",
              "    </tr>\n",
              "    <tr>\n",
              "      <th>2</th>\n",
              "      <td>4.7</td>\n",
              "      <td>3.2</td>\n",
              "      <td>1.3</td>\n",
              "      <td>0.2</td>\n",
              "      <td>setosa</td>\n",
              "    </tr>\n",
              "    <tr>\n",
              "      <th>3</th>\n",
              "      <td>4.6</td>\n",
              "      <td>3.1</td>\n",
              "      <td>1.5</td>\n",
              "      <td>0.2</td>\n",
              "      <td>setosa</td>\n",
              "    </tr>\n",
              "    <tr>\n",
              "      <th>4</th>\n",
              "      <td>5.0</td>\n",
              "      <td>3.6</td>\n",
              "      <td>1.4</td>\n",
              "      <td>0.2</td>\n",
              "      <td>setosa</td>\n",
              "    </tr>\n",
              "  </tbody>\n",
              "</table>\n",
              "</div>"
            ],
            "text/plain": [
              "   sepal_length  sepal_width  petal_length  petal_width species\n",
              "0           5.1          3.5           1.4          0.2  setosa\n",
              "1           4.9          3.0           1.4          0.2  setosa\n",
              "2           4.7          3.2           1.3          0.2  setosa\n",
              "3           4.6          3.1           1.5          0.2  setosa\n",
              "4           5.0          3.6           1.4          0.2  setosa"
            ]
          },
          "metadata": {
            "tags": []
          },
          "execution_count": 118
        }
      ]
    },
    {
      "cell_type": "code",
      "metadata": {
        "colab": {
          "base_uri": "https://localhost:8080/",
          "height": 195
        },
        "id": "Pa01oddPnioT",
        "outputId": "afcea859-6114-45a7-ce82-78c9680587e8"
      },
      "source": [
        "iris_df.tail()"
      ],
      "execution_count": 119,
      "outputs": [
        {
          "output_type": "execute_result",
          "data": {
            "text/html": [
              "<div>\n",
              "<style scoped>\n",
              "    .dataframe tbody tr th:only-of-type {\n",
              "        vertical-align: middle;\n",
              "    }\n",
              "\n",
              "    .dataframe tbody tr th {\n",
              "        vertical-align: top;\n",
              "    }\n",
              "\n",
              "    .dataframe thead th {\n",
              "        text-align: right;\n",
              "    }\n",
              "</style>\n",
              "<table border=\"1\" class=\"dataframe\">\n",
              "  <thead>\n",
              "    <tr style=\"text-align: right;\">\n",
              "      <th></th>\n",
              "      <th>sepal_length</th>\n",
              "      <th>sepal_width</th>\n",
              "      <th>petal_length</th>\n",
              "      <th>petal_width</th>\n",
              "      <th>species</th>\n",
              "    </tr>\n",
              "  </thead>\n",
              "  <tbody>\n",
              "    <tr>\n",
              "      <th>145</th>\n",
              "      <td>6.7</td>\n",
              "      <td>3.0</td>\n",
              "      <td>5.2</td>\n",
              "      <td>2.3</td>\n",
              "      <td>virginica</td>\n",
              "    </tr>\n",
              "    <tr>\n",
              "      <th>146</th>\n",
              "      <td>6.3</td>\n",
              "      <td>2.5</td>\n",
              "      <td>5.0</td>\n",
              "      <td>1.9</td>\n",
              "      <td>virginica</td>\n",
              "    </tr>\n",
              "    <tr>\n",
              "      <th>147</th>\n",
              "      <td>6.5</td>\n",
              "      <td>3.0</td>\n",
              "      <td>5.2</td>\n",
              "      <td>2.0</td>\n",
              "      <td>virginica</td>\n",
              "    </tr>\n",
              "    <tr>\n",
              "      <th>148</th>\n",
              "      <td>6.2</td>\n",
              "      <td>3.4</td>\n",
              "      <td>5.4</td>\n",
              "      <td>2.3</td>\n",
              "      <td>virginica</td>\n",
              "    </tr>\n",
              "    <tr>\n",
              "      <th>149</th>\n",
              "      <td>5.9</td>\n",
              "      <td>3.0</td>\n",
              "      <td>5.1</td>\n",
              "      <td>1.8</td>\n",
              "      <td>virginica</td>\n",
              "    </tr>\n",
              "  </tbody>\n",
              "</table>\n",
              "</div>"
            ],
            "text/plain": [
              "     sepal_length  sepal_width  petal_length  petal_width    species\n",
              "145           6.7          3.0           5.2          2.3  virginica\n",
              "146           6.3          2.5           5.0          1.9  virginica\n",
              "147           6.5          3.0           5.2          2.0  virginica\n",
              "148           6.2          3.4           5.4          2.3  virginica\n",
              "149           5.9          3.0           5.1          1.8  virginica"
            ]
          },
          "metadata": {
            "tags": []
          },
          "execution_count": 119
        }
      ]
    },
    {
      "cell_type": "code",
      "metadata": {
        "colab": {
          "base_uri": "https://localhost:8080/"
        },
        "id": "C1otbuPPRpJb",
        "outputId": "361289de-4746-4c70-b53d-c892d288c0fc"
      },
      "source": [
        "iris_df.species.value_counts()"
      ],
      "execution_count": 120,
      "outputs": [
        {
          "output_type": "execute_result",
          "data": {
            "text/plain": [
              "virginica     50\n",
              "versicolor    50\n",
              "setosa        50\n",
              "Name: species, dtype: int64"
            ]
          },
          "metadata": {
            "tags": []
          },
          "execution_count": 120
        }
      ]
    },
    {
      "cell_type": "code",
      "metadata": {
        "colab": {
          "base_uri": "https://localhost:8080/"
        },
        "id": "spFPi5OvmNLN",
        "outputId": "8ebb5aaf-c99a-4126-cdbf-7845456f6c84"
      },
      "source": [
        "iris_df.species.cat.codes.value_counts()"
      ],
      "execution_count": 121,
      "outputs": [
        {
          "output_type": "execute_result",
          "data": {
            "text/plain": [
              "2    50\n",
              "1    50\n",
              "0    50\n",
              "dtype: int64"
            ]
          },
          "metadata": {
            "tags": []
          },
          "execution_count": 121
        }
      ]
    },
    {
      "cell_type": "code",
      "metadata": {
        "colab": {
          "base_uri": "https://localhost:8080/",
          "height": 106
        },
        "id": "hmdGXStxiX9T",
        "outputId": "096a843d-30cb-4bf2-a447-ac4286a8d2ae"
      },
      "source": [
        "X = iris_df.drop('species', axis=1)\n",
        "X.head(2)"
      ],
      "execution_count": 122,
      "outputs": [
        {
          "output_type": "execute_result",
          "data": {
            "text/html": [
              "<div>\n",
              "<style scoped>\n",
              "    .dataframe tbody tr th:only-of-type {\n",
              "        vertical-align: middle;\n",
              "    }\n",
              "\n",
              "    .dataframe tbody tr th {\n",
              "        vertical-align: top;\n",
              "    }\n",
              "\n",
              "    .dataframe thead th {\n",
              "        text-align: right;\n",
              "    }\n",
              "</style>\n",
              "<table border=\"1\" class=\"dataframe\">\n",
              "  <thead>\n",
              "    <tr style=\"text-align: right;\">\n",
              "      <th></th>\n",
              "      <th>sepal_length</th>\n",
              "      <th>sepal_width</th>\n",
              "      <th>petal_length</th>\n",
              "      <th>petal_width</th>\n",
              "    </tr>\n",
              "  </thead>\n",
              "  <tbody>\n",
              "    <tr>\n",
              "      <th>0</th>\n",
              "      <td>5.1</td>\n",
              "      <td>3.5</td>\n",
              "      <td>1.4</td>\n",
              "      <td>0.2</td>\n",
              "    </tr>\n",
              "    <tr>\n",
              "      <th>1</th>\n",
              "      <td>4.9</td>\n",
              "      <td>3.0</td>\n",
              "      <td>1.4</td>\n",
              "      <td>0.2</td>\n",
              "    </tr>\n",
              "  </tbody>\n",
              "</table>\n",
              "</div>"
            ],
            "text/plain": [
              "   sepal_length  sepal_width  petal_length  petal_width\n",
              "0           5.1          3.5           1.4          0.2\n",
              "1           4.9          3.0           1.4          0.2"
            ]
          },
          "metadata": {
            "tags": []
          },
          "execution_count": 122
        }
      ]
    },
    {
      "cell_type": "code",
      "metadata": {
        "colab": {
          "base_uri": "https://localhost:8080/"
        },
        "id": "oFHwv2SopDEj",
        "outputId": "b23c2fa4-8576-45e3-b1fb-b253e6a50007"
      },
      "source": [
        "X=X.values\n",
        "X.shape"
      ],
      "execution_count": 123,
      "outputs": [
        {
          "output_type": "execute_result",
          "data": {
            "text/plain": [
              "(150, 4)"
            ]
          },
          "metadata": {
            "tags": []
          },
          "execution_count": 123
        }
      ]
    },
    {
      "cell_type": "code",
      "metadata": {
        "colab": {
          "base_uri": "https://localhost:8080/"
        },
        "id": "pK8Z8qi4iw2G",
        "outputId": "26cb6840-92d0-48de-9aac-70962071ab1d"
      },
      "source": [
        "y = iris_df.species.cat.codes\n",
        "y.head()"
      ],
      "execution_count": 124,
      "outputs": [
        {
          "output_type": "execute_result",
          "data": {
            "text/plain": [
              "0    0\n",
              "1    0\n",
              "2    0\n",
              "3    0\n",
              "4    0\n",
              "dtype: int8"
            ]
          },
          "metadata": {
            "tags": []
          },
          "execution_count": 124
        }
      ]
    },
    {
      "cell_type": "code",
      "metadata": {
        "colab": {
          "base_uri": "https://localhost:8080/"
        },
        "id": "xRseTKX9nu4U",
        "outputId": "386402e4-5a2e-4dac-ab31-dd4fe06e8618"
      },
      "source": [
        "y.tail()"
      ],
      "execution_count": 125,
      "outputs": [
        {
          "output_type": "execute_result",
          "data": {
            "text/plain": [
              "145    2\n",
              "146    2\n",
              "147    2\n",
              "148    2\n",
              "149    2\n",
              "dtype: int8"
            ]
          },
          "metadata": {
            "tags": []
          },
          "execution_count": 125
        }
      ]
    },
    {
      "cell_type": "code",
      "metadata": {
        "colab": {
          "base_uri": "https://localhost:8080/"
        },
        "id": "euNsBv9hpYwE",
        "outputId": "4fac3c83-540b-4512-fdf5-c7d29c54656e"
      },
      "source": [
        "y=y.values\n",
        "y.shape"
      ],
      "execution_count": 126,
      "outputs": [
        {
          "output_type": "execute_result",
          "data": {
            "text/plain": [
              "(150,)"
            ]
          },
          "metadata": {
            "tags": []
          },
          "execution_count": 126
        }
      ]
    },
    {
      "cell_type": "code",
      "metadata": {
        "colab": {
          "base_uri": "https://localhost:8080/"
        },
        "id": "YHN8Ttcch3Vd",
        "outputId": "9ef11b43-291d-41a2-a0fe-b36aa1b2796f"
      },
      "source": [
        "from sklearn.model_selection import train_test_split\n",
        "\n",
        "X_train, X_valid, y_train, y_valid = train_test_split(X, y, test_size=0.25, random_state=0, stratify=y)\n",
        "\n",
        "X_train.shape, X_valid.shape, y_train.shape, y_valid.shape"
      ],
      "execution_count": 127,
      "outputs": [
        {
          "output_type": "execute_result",
          "data": {
            "text/plain": [
              "((112, 4), (38, 4), (112,), (38,))"
            ]
          },
          "metadata": {
            "tags": []
          },
          "execution_count": 127
        }
      ]
    },
    {
      "cell_type": "code",
      "metadata": {
        "colab": {
          "base_uri": "https://localhost:8080/"
        },
        "id": "e_pjpi70ocMt",
        "outputId": "2ca7a894-05c2-428d-ae18-17e3642415d6"
      },
      "source": [
        "y_train[0]"
      ],
      "execution_count": 128,
      "outputs": [
        {
          "output_type": "execute_result",
          "data": {
            "text/plain": [
              "1"
            ]
          },
          "metadata": {
            "tags": []
          },
          "execution_count": 128
        }
      ]
    },
    {
      "cell_type": "code",
      "metadata": {
        "id": "Kdk1yPxIjtp8"
      },
      "source": [
        "from tensorflow.keras.utils import to_categorical\n",
        "n_classes = 3\n",
        "y_train = to_categorical(y_train, n_classes)\n",
        "y_valid = to_categorical(y_valid, n_classes)"
      ],
      "execution_count": 129,
      "outputs": []
    },
    {
      "cell_type": "code",
      "metadata": {
        "colab": {
          "base_uri": "https://localhost:8080/"
        },
        "id": "nUob46tIoGIj",
        "outputId": "0486371d-6386-45da-9796-9aa90a7681e4"
      },
      "source": [
        "y_train.shape, y_valid.shape"
      ],
      "execution_count": 130,
      "outputs": [
        {
          "output_type": "execute_result",
          "data": {
            "text/plain": [
              "((112, 3), (38, 3))"
            ]
          },
          "metadata": {
            "tags": []
          },
          "execution_count": 130
        }
      ]
    },
    {
      "cell_type": "code",
      "metadata": {
        "colab": {
          "base_uri": "https://localhost:8080/"
        },
        "id": "zg8VxpmwoSAd",
        "outputId": "d071e36f-a47a-4ba4-bad7-e3ecd16824a6"
      },
      "source": [
        "y_train[0]"
      ],
      "execution_count": 131,
      "outputs": [
        {
          "output_type": "execute_result",
          "data": {
            "text/plain": [
              "array([0., 1., 0.], dtype=float32)"
            ]
          },
          "metadata": {
            "tags": []
          },
          "execution_count": 131
        }
      ]
    },
    {
      "cell_type": "code",
      "metadata": {
        "id": "FlXbhArAggRk"
      },
      "source": [
        "model = Sequential()\n",
        "model.add(Dense(units=4, activation='relu', input_shape=(4,)))\n",
        "model.add(Dense(units=4, activation='relu'))\n",
        "model.add(Dense(units=2, activation='relu'))\n",
        "model.add(Dense(units=1, activation='softmax'))"
      ],
      "execution_count": 132,
      "outputs": []
    },
    {
      "cell_type": "code",
      "metadata": {
        "colab": {
          "base_uri": "https://localhost:8080/"
        },
        "id": "MiOeeUfZh1Rb",
        "outputId": "3676274b-f420-4d1c-d260-2a8583266e38"
      },
      "source": [
        "model.summary()"
      ],
      "execution_count": 133,
      "outputs": [
        {
          "output_type": "stream",
          "text": [
            "Model: \"sequential_6\"\n",
            "_________________________________________________________________\n",
            "Layer (type)                 Output Shape              Param #   \n",
            "=================================================================\n",
            "dense_24 (Dense)             (None, 4)                 20        \n",
            "_________________________________________________________________\n",
            "dense_25 (Dense)             (None, 4)                 20        \n",
            "_________________________________________________________________\n",
            "dense_26 (Dense)             (None, 2)                 10        \n",
            "_________________________________________________________________\n",
            "dense_27 (Dense)             (None, 1)                 3         \n",
            "=================================================================\n",
            "Total params: 53\n",
            "Trainable params: 53\n",
            "Non-trainable params: 0\n",
            "_________________________________________________________________\n"
          ],
          "name": "stdout"
        }
      ]
    },
    {
      "cell_type": "code",
      "metadata": {
        "id": "Mv8Qe4JBh9v8",
        "outputId": "60692d75-495e-4579-a65b-ab596031573d",
        "colab": {
          "base_uri": "https://localhost:8080/"
        }
      },
      "source": [
        "model.compile(loss='mean_squared_error', optimizer=SGD(lr=0.01), metrics=['accuracy'])"
      ],
      "execution_count": 134,
      "outputs": [
        {
          "output_type": "stream",
          "text": [
            "/usr/local/lib/python3.7/dist-packages/tensorflow/python/keras/optimizer_v2/optimizer_v2.py:375: UserWarning: The `lr` argument is deprecated, use `learning_rate` instead.\n",
            "  \"The `lr` argument is deprecated, use `learning_rate` instead.\")\n"
          ],
          "name": "stderr"
        }
      ]
    },
    {
      "cell_type": "code",
      "metadata": {
        "id": "yJk9XLf7iEKy",
        "outputId": "73411c21-adf5-42d3-b7c8-a4bd1ba048d3",
        "colab": {
          "base_uri": "https://localhost:8080/"
        }
      },
      "source": [
        "\n",
        "model.fit(X_train, y_train, batch_size=1, epochs=50, verbose=1, validation_data=(X_valid, y_valid))"
      ],
      "execution_count": 135,
      "outputs": [
        {
          "output_type": "stream",
          "text": [
            "Epoch 1/50\n",
            "112/112 [==============================] - 1s 4ms/step - loss: 0.6667 - accuracy: 0.3333 - val_loss: 0.6667 - val_accuracy: 0.3333\n",
            "Epoch 2/50\n",
            "112/112 [==============================] - 0s 2ms/step - loss: 0.6667 - accuracy: 0.3333 - val_loss: 0.6667 - val_accuracy: 0.3333\n",
            "Epoch 3/50\n",
            "112/112 [==============================] - 0s 1ms/step - loss: 0.6667 - accuracy: 0.3333 - val_loss: 0.6667 - val_accuracy: 0.3333\n",
            "Epoch 4/50\n",
            "112/112 [==============================] - 0s 2ms/step - loss: 0.6667 - accuracy: 0.3333 - val_loss: 0.6667 - val_accuracy: 0.3333\n",
            "Epoch 5/50\n",
            "112/112 [==============================] - 0s 1ms/step - loss: 0.6667 - accuracy: 0.3333 - val_loss: 0.6667 - val_accuracy: 0.3333\n",
            "Epoch 6/50\n",
            "112/112 [==============================] - 0s 2ms/step - loss: 0.6667 - accuracy: 0.3333 - val_loss: 0.6667 - val_accuracy: 0.3333\n",
            "Epoch 7/50\n",
            "112/112 [==============================] - 0s 2ms/step - loss: 0.6667 - accuracy: 0.3333 - val_loss: 0.6667 - val_accuracy: 0.3333\n",
            "Epoch 8/50\n",
            "112/112 [==============================] - 0s 2ms/step - loss: 0.6667 - accuracy: 0.3333 - val_loss: 0.6667 - val_accuracy: 0.3333\n",
            "Epoch 9/50\n",
            "112/112 [==============================] - 0s 2ms/step - loss: 0.6667 - accuracy: 0.3333 - val_loss: 0.6667 - val_accuracy: 0.3333\n",
            "Epoch 10/50\n",
            "112/112 [==============================] - 0s 2ms/step - loss: 0.6667 - accuracy: 0.3333 - val_loss: 0.6667 - val_accuracy: 0.3333\n",
            "Epoch 11/50\n",
            "112/112 [==============================] - 0s 2ms/step - loss: 0.6667 - accuracy: 0.3333 - val_loss: 0.6667 - val_accuracy: 0.3333\n",
            "Epoch 12/50\n",
            "112/112 [==============================] - 0s 2ms/step - loss: 0.6667 - accuracy: 0.3333 - val_loss: 0.6667 - val_accuracy: 0.3333\n",
            "Epoch 13/50\n",
            "112/112 [==============================] - 0s 2ms/step - loss: 0.6667 - accuracy: 0.3333 - val_loss: 0.6667 - val_accuracy: 0.3333\n",
            "Epoch 14/50\n",
            "112/112 [==============================] - 0s 1ms/step - loss: 0.6667 - accuracy: 0.3333 - val_loss: 0.6667 - val_accuracy: 0.3333\n",
            "Epoch 15/50\n",
            "112/112 [==============================] - 0s 1ms/step - loss: 0.6667 - accuracy: 0.3333 - val_loss: 0.6667 - val_accuracy: 0.3333\n",
            "Epoch 16/50\n",
            "112/112 [==============================] - 0s 1ms/step - loss: 0.6667 - accuracy: 0.3333 - val_loss: 0.6667 - val_accuracy: 0.3333\n",
            "Epoch 17/50\n",
            "112/112 [==============================] - 0s 2ms/step - loss: 0.6667 - accuracy: 0.3333 - val_loss: 0.6667 - val_accuracy: 0.3333\n",
            "Epoch 18/50\n",
            "112/112 [==============================] - 0s 1ms/step - loss: 0.6667 - accuracy: 0.3333 - val_loss: 0.6667 - val_accuracy: 0.3333\n",
            "Epoch 19/50\n",
            "112/112 [==============================] - 0s 1ms/step - loss: 0.6667 - accuracy: 0.3333 - val_loss: 0.6667 - val_accuracy: 0.3333\n",
            "Epoch 20/50\n",
            "112/112 [==============================] - 0s 2ms/step - loss: 0.6667 - accuracy: 0.3333 - val_loss: 0.6667 - val_accuracy: 0.3333\n",
            "Epoch 21/50\n",
            "112/112 [==============================] - 0s 1ms/step - loss: 0.6667 - accuracy: 0.3333 - val_loss: 0.6667 - val_accuracy: 0.3333\n",
            "Epoch 22/50\n",
            "112/112 [==============================] - 0s 1ms/step - loss: 0.6667 - accuracy: 0.3333 - val_loss: 0.6667 - val_accuracy: 0.3333\n",
            "Epoch 23/50\n",
            "112/112 [==============================] - 0s 2ms/step - loss: 0.6667 - accuracy: 0.3333 - val_loss: 0.6667 - val_accuracy: 0.3333\n",
            "Epoch 24/50\n",
            "112/112 [==============================] - 0s 1ms/step - loss: 0.6667 - accuracy: 0.3333 - val_loss: 0.6667 - val_accuracy: 0.3333\n",
            "Epoch 25/50\n",
            "112/112 [==============================] - 0s 2ms/step - loss: 0.6667 - accuracy: 0.3333 - val_loss: 0.6667 - val_accuracy: 0.3333\n",
            "Epoch 26/50\n",
            "112/112 [==============================] - 0s 1ms/step - loss: 0.6667 - accuracy: 0.3333 - val_loss: 0.6667 - val_accuracy: 0.3333\n",
            "Epoch 27/50\n",
            "112/112 [==============================] - 0s 1ms/step - loss: 0.6667 - accuracy: 0.3333 - val_loss: 0.6667 - val_accuracy: 0.3333\n",
            "Epoch 28/50\n",
            "112/112 [==============================] - 0s 2ms/step - loss: 0.6667 - accuracy: 0.3333 - val_loss: 0.6667 - val_accuracy: 0.3333\n",
            "Epoch 29/50\n",
            "112/112 [==============================] - 0s 2ms/step - loss: 0.6667 - accuracy: 0.3333 - val_loss: 0.6667 - val_accuracy: 0.3333\n",
            "Epoch 30/50\n",
            "112/112 [==============================] - 0s 2ms/step - loss: 0.6667 - accuracy: 0.3333 - val_loss: 0.6667 - val_accuracy: 0.3333\n",
            "Epoch 31/50\n",
            "112/112 [==============================] - 0s 2ms/step - loss: 0.6667 - accuracy: 0.3333 - val_loss: 0.6667 - val_accuracy: 0.3333\n",
            "Epoch 32/50\n",
            "112/112 [==============================] - 0s 1ms/step - loss: 0.6667 - accuracy: 0.3333 - val_loss: 0.6667 - val_accuracy: 0.3333\n",
            "Epoch 33/50\n",
            "112/112 [==============================] - 0s 2ms/step - loss: 0.6667 - accuracy: 0.3333 - val_loss: 0.6667 - val_accuracy: 0.3333\n",
            "Epoch 34/50\n",
            "112/112 [==============================] - 0s 2ms/step - loss: 0.6667 - accuracy: 0.3333 - val_loss: 0.6667 - val_accuracy: 0.3333\n",
            "Epoch 35/50\n",
            "112/112 [==============================] - 0s 2ms/step - loss: 0.6667 - accuracy: 0.3333 - val_loss: 0.6667 - val_accuracy: 0.3333\n",
            "Epoch 36/50\n",
            "112/112 [==============================] - 0s 2ms/step - loss: 0.6667 - accuracy: 0.3333 - val_loss: 0.6667 - val_accuracy: 0.3333\n",
            "Epoch 37/50\n",
            "112/112 [==============================] - 0s 2ms/step - loss: 0.6667 - accuracy: 0.3333 - val_loss: 0.6667 - val_accuracy: 0.3333\n",
            "Epoch 38/50\n",
            "112/112 [==============================] - 0s 1ms/step - loss: 0.6667 - accuracy: 0.3333 - val_loss: 0.6667 - val_accuracy: 0.3333\n",
            "Epoch 39/50\n",
            "112/112 [==============================] - 0s 1ms/step - loss: 0.6667 - accuracy: 0.3333 - val_loss: 0.6667 - val_accuracy: 0.3333\n",
            "Epoch 40/50\n",
            "112/112 [==============================] - 0s 1ms/step - loss: 0.6667 - accuracy: 0.3333 - val_loss: 0.6667 - val_accuracy: 0.3333\n",
            "Epoch 41/50\n",
            "112/112 [==============================] - 0s 2ms/step - loss: 0.6667 - accuracy: 0.3333 - val_loss: 0.6667 - val_accuracy: 0.3333\n",
            "Epoch 42/50\n",
            "112/112 [==============================] - 0s 2ms/step - loss: 0.6667 - accuracy: 0.3333 - val_loss: 0.6667 - val_accuracy: 0.3333\n",
            "Epoch 43/50\n",
            "112/112 [==============================] - 0s 2ms/step - loss: 0.6667 - accuracy: 0.3333 - val_loss: 0.6667 - val_accuracy: 0.3333\n",
            "Epoch 44/50\n",
            "112/112 [==============================] - 0s 2ms/step - loss: 0.6667 - accuracy: 0.3333 - val_loss: 0.6667 - val_accuracy: 0.3333\n",
            "Epoch 45/50\n",
            "112/112 [==============================] - 0s 1ms/step - loss: 0.6667 - accuracy: 0.3333 - val_loss: 0.6667 - val_accuracy: 0.3333\n",
            "Epoch 46/50\n",
            "112/112 [==============================] - 0s 2ms/step - loss: 0.6667 - accuracy: 0.3333 - val_loss: 0.6667 - val_accuracy: 0.3333\n",
            "Epoch 47/50\n",
            "112/112 [==============================] - 0s 2ms/step - loss: 0.6667 - accuracy: 0.3333 - val_loss: 0.6667 - val_accuracy: 0.3333\n",
            "Epoch 48/50\n",
            "112/112 [==============================] - 0s 1ms/step - loss: 0.6667 - accuracy: 0.3333 - val_loss: 0.6667 - val_accuracy: 0.3333\n",
            "Epoch 49/50\n",
            "112/112 [==============================] - 0s 1ms/step - loss: 0.6667 - accuracy: 0.3333 - val_loss: 0.6667 - val_accuracy: 0.3333\n",
            "Epoch 50/50\n",
            "112/112 [==============================] - 0s 2ms/step - loss: 0.6667 - accuracy: 0.3333 - val_loss: 0.6667 - val_accuracy: 0.3333\n"
          ],
          "name": "stdout"
        },
        {
          "output_type": "execute_result",
          "data": {
            "text/plain": [
              "<keras.callbacks.History at 0x7fae4a11bc90>"
            ]
          },
          "metadata": {
            "tags": []
          },
          "execution_count": 135
        }
      ]
    },
    {
      "cell_type": "code",
      "metadata": {
        "colab": {
          "base_uri": "https://localhost:8080/"
        },
        "id": "sAzh-6qxmdW6",
        "outputId": "5bee182a-99d0-4454-d646-a69a9fe2e36d"
      },
      "source": [
        "model.evaluate(X_valid, y_valid)"
      ],
      "execution_count": 136,
      "outputs": [
        {
          "output_type": "stream",
          "text": [
            "2/2 [==============================] - 0s 5ms/step - loss: 0.6667 - accuracy: 0.3333\n"
          ],
          "name": "stdout"
        },
        {
          "output_type": "execute_result",
          "data": {
            "text/plain": [
              "[0.6666666865348816, 0.3333333432674408]"
            ]
          },
          "metadata": {
            "tags": []
          },
          "execution_count": 136
        }
      ]
    },
    {
      "cell_type": "code",
      "metadata": {
        "colab": {
          "base_uri": "https://localhost:8080/"
        },
        "id": "giycrSg-kuRM",
        "outputId": "0348f74f-903b-4bf5-df8c-2ffea6997b6a"
      },
      "source": [
        "y_valid[0]"
      ],
      "execution_count": 137,
      "outputs": [
        {
          "output_type": "execute_result",
          "data": {
            "text/plain": [
              "array([1., 0., 0.], dtype=float32)"
            ]
          },
          "metadata": {
            "tags": []
          },
          "execution_count": 137
        }
      ]
    },
    {
      "cell_type": "code",
      "metadata": {
        "colab": {
          "base_uri": "https://localhost:8080/"
        },
        "id": "FfBL_RqYkbc6",
        "outputId": "e2698cf7-7f5a-4fd1-f3a5-991f12cfc44a"
      },
      "source": [
        "model.predict(X_valid[0].reshape(1,-1))"
      ],
      "execution_count": 138,
      "outputs": [
        {
          "output_type": "stream",
          "text": [
            "WARNING:tensorflow:6 out of the last 6 calls to <function Model.make_predict_function.<locals>.predict_function at 0x7fae49fb3b00> triggered tf.function retracing. Tracing is expensive and the excessive number of tracings could be due to (1) creating @tf.function repeatedly in a loop, (2) passing tensors with different shapes, (3) passing Python objects instead of tensors. For (1), please define your @tf.function outside of the loop. For (2), @tf.function has experimental_relax_shapes=True option that relaxes argument shapes that can avoid unnecessary retracing. For (3), please refer to https://www.tensorflow.org/guide/function#controlling_retracing and https://www.tensorflow.org/api_docs/python/tf/function for  more details.\n"
          ],
          "name": "stdout"
        },
        {
          "output_type": "execute_result",
          "data": {
            "text/plain": [
              "array([[1.]], dtype=float32)"
            ]
          },
          "metadata": {
            "tags": []
          },
          "execution_count": 138
        }
      ]
    },
    {
      "cell_type": "markdown",
      "metadata": {
        "id": "PO0jHtgrWJCH"
      },
      "source": [
        "##Your Turn\n",
        "- Build a Dense Network using continuous features to predict customer churn\n",
        "- Experiment with different size layers and different activation functions\n",
        "- Think about what activation makes sense for the output layer "
      ]
    },
    {
      "cell_type": "code",
      "metadata": {
        "colab": {
          "resources": {
            "http://localhost:8080/nbextensions/google.colab/files.js": {
              "data": "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",
              "ok": true,
              "headers": [
                [
                  "content-type",
                  "application/javascript"
                ]
              ],
              "status": 200,
              "status_text": ""
            }
          },
          "base_uri": "https://localhost:8080/",
          "height": 90
        },
        "id": "7cJkGNqhUEdw",
        "outputId": "685465bd-d293-43d2-b483-49cbc32d68e8"
      },
      "source": [
        "from google.colab import files\n",
        "\n",
        "uploaded = files.upload()\n",
        "\n",
        "for fn in uploaded.keys():\n",
        "  print('User uploaded file \"{name}\" with length {length} bytes'.format(\n",
        "      name=fn, length=len(uploaded[fn])))"
      ],
      "execution_count": 139,
      "outputs": [
        {
          "output_type": "display_data",
          "data": {
            "text/html": [
              "\n",
              "     <input type=\"file\" id=\"files-cf094511-e9a9-400d-8fe1-d561bff369da\" name=\"files[]\" multiple disabled\n",
              "        style=\"border:none\" />\n",
              "     <output id=\"result-cf094511-e9a9-400d-8fe1-d561bff369da\">\n",
              "      Upload widget is only available when the cell has been executed in the\n",
              "      current browser session. Please rerun this cell to enable.\n",
              "      </output>\n",
              "      <script src=\"/nbextensions/google.colab/files.js\"></script> "
            ],
            "text/plain": [
              "<IPython.core.display.HTML object>"
            ]
          },
          "metadata": {
            "tags": []
          }
        },
        {
          "output_type": "stream",
          "text": [
            "Saving churn.csv to churn (1).csv\n",
            "User uploaded file \"churn.csv\" with length 969287 bytes\n"
          ],
          "name": "stdout"
        }
      ]
    },
    {
      "cell_type": "code",
      "metadata": {
        "colab": {
          "base_uri": "https://localhost:8080/",
          "height": 296
        },
        "id": "1eah8pZ4UZ4_",
        "outputId": "23a193a6-d963-4bef-d2d4-fad6f4adb2f4"
      },
      "source": [
        "import pandas as pd\n",
        "churn_df = pd.read_csv('churn.csv')\n",
        "churn_df.head()"
      ],
      "execution_count": 140,
      "outputs": [
        {
          "output_type": "execute_result",
          "data": {
            "text/html": [
              "<div>\n",
              "<style scoped>\n",
              "    .dataframe tbody tr th:only-of-type {\n",
              "        vertical-align: middle;\n",
              "    }\n",
              "\n",
              "    .dataframe tbody tr th {\n",
              "        vertical-align: top;\n",
              "    }\n",
              "\n",
              "    .dataframe thead th {\n",
              "        text-align: right;\n",
              "    }\n",
              "</style>\n",
              "<table border=\"1\" class=\"dataframe\">\n",
              "  <thead>\n",
              "    <tr style=\"text-align: right;\">\n",
              "      <th></th>\n",
              "      <th>State</th>\n",
              "      <th>Account Length</th>\n",
              "      <th>Area Code</th>\n",
              "      <th>Phone</th>\n",
              "      <th>Int'l Plan</th>\n",
              "      <th>VMail Plan</th>\n",
              "      <th>VMail Message</th>\n",
              "      <th>Day Mins</th>\n",
              "      <th>Day Calls</th>\n",
              "      <th>Day Charge</th>\n",
              "      <th>Eve Mins</th>\n",
              "      <th>Eve Calls</th>\n",
              "      <th>Eve Charge</th>\n",
              "      <th>Night Mins</th>\n",
              "      <th>Night Calls</th>\n",
              "      <th>Night Charge</th>\n",
              "      <th>Intl Mins</th>\n",
              "      <th>Intl Calls</th>\n",
              "      <th>Intl Charge</th>\n",
              "      <th>CustServ Calls</th>\n",
              "      <th>Churn?</th>\n",
              "    </tr>\n",
              "  </thead>\n",
              "  <tbody>\n",
              "    <tr>\n",
              "      <th>0</th>\n",
              "      <td>PA</td>\n",
              "      <td>163</td>\n",
              "      <td>806</td>\n",
              "      <td>403-2562</td>\n",
              "      <td>no</td>\n",
              "      <td>yes</td>\n",
              "      <td>300</td>\n",
              "      <td>8.162204</td>\n",
              "      <td>3</td>\n",
              "      <td>7.579174</td>\n",
              "      <td>3.933035</td>\n",
              "      <td>4</td>\n",
              "      <td>6.508639</td>\n",
              "      <td>4.065759</td>\n",
              "      <td>100</td>\n",
              "      <td>5.111624</td>\n",
              "      <td>4.928160</td>\n",
              "      <td>6</td>\n",
              "      <td>5.673203</td>\n",
              "      <td>3</td>\n",
              "      <td>True.</td>\n",
              "    </tr>\n",
              "    <tr>\n",
              "      <th>1</th>\n",
              "      <td>SC</td>\n",
              "      <td>15</td>\n",
              "      <td>836</td>\n",
              "      <td>158-8416</td>\n",
              "      <td>yes</td>\n",
              "      <td>no</td>\n",
              "      <td>0</td>\n",
              "      <td>10.018993</td>\n",
              "      <td>4</td>\n",
              "      <td>4.226289</td>\n",
              "      <td>2.325005</td>\n",
              "      <td>0</td>\n",
              "      <td>9.972592</td>\n",
              "      <td>7.141040</td>\n",
              "      <td>200</td>\n",
              "      <td>6.436188</td>\n",
              "      <td>3.221748</td>\n",
              "      <td>6</td>\n",
              "      <td>2.559749</td>\n",
              "      <td>8</td>\n",
              "      <td>False.</td>\n",
              "    </tr>\n",
              "    <tr>\n",
              "      <th>2</th>\n",
              "      <td>MO</td>\n",
              "      <td>131</td>\n",
              "      <td>777</td>\n",
              "      <td>896-6253</td>\n",
              "      <td>no</td>\n",
              "      <td>yes</td>\n",
              "      <td>300</td>\n",
              "      <td>4.708490</td>\n",
              "      <td>3</td>\n",
              "      <td>4.768160</td>\n",
              "      <td>4.537466</td>\n",
              "      <td>3</td>\n",
              "      <td>4.566715</td>\n",
              "      <td>5.363235</td>\n",
              "      <td>100</td>\n",
              "      <td>5.142451</td>\n",
              "      <td>7.139023</td>\n",
              "      <td>2</td>\n",
              "      <td>6.254157</td>\n",
              "      <td>4</td>\n",
              "      <td>False.</td>\n",
              "    </tr>\n",
              "    <tr>\n",
              "      <th>3</th>\n",
              "      <td>WY</td>\n",
              "      <td>75</td>\n",
              "      <td>878</td>\n",
              "      <td>817-5729</td>\n",
              "      <td>yes</td>\n",
              "      <td>yes</td>\n",
              "      <td>700</td>\n",
              "      <td>1.268734</td>\n",
              "      <td>3</td>\n",
              "      <td>2.567642</td>\n",
              "      <td>2.528748</td>\n",
              "      <td>5</td>\n",
              "      <td>2.333624</td>\n",
              "      <td>3.773586</td>\n",
              "      <td>450</td>\n",
              "      <td>3.814413</td>\n",
              "      <td>2.245779</td>\n",
              "      <td>6</td>\n",
              "      <td>1.080692</td>\n",
              "      <td>6</td>\n",
              "      <td>False.</td>\n",
              "    </tr>\n",
              "    <tr>\n",
              "      <th>4</th>\n",
              "      <td>WY</td>\n",
              "      <td>146</td>\n",
              "      <td>878</td>\n",
              "      <td>450-4942</td>\n",
              "      <td>yes</td>\n",
              "      <td>no</td>\n",
              "      <td>0</td>\n",
              "      <td>2.696177</td>\n",
              "      <td>3</td>\n",
              "      <td>5.908916</td>\n",
              "      <td>6.015337</td>\n",
              "      <td>3</td>\n",
              "      <td>3.670408</td>\n",
              "      <td>3.751673</td>\n",
              "      <td>250</td>\n",
              "      <td>2.796812</td>\n",
              "      <td>6.905545</td>\n",
              "      <td>4</td>\n",
              "      <td>7.134343</td>\n",
              "      <td>6</td>\n",
              "      <td>True.</td>\n",
              "    </tr>\n",
              "  </tbody>\n",
              "</table>\n",
              "</div>"
            ],
            "text/plain": [
              "  State  Account Length  Area Code  ... Intl Charge CustServ Calls  Churn?\n",
              "0    PA             163        806  ...    5.673203              3   True.\n",
              "1    SC              15        836  ...    2.559749              8  False.\n",
              "2    MO             131        777  ...    6.254157              4  False.\n",
              "3    WY              75        878  ...    1.080692              6  False.\n",
              "4    WY             146        878  ...    7.134343              6   True.\n",
              "\n",
              "[5 rows x 21 columns]"
            ]
          },
          "metadata": {
            "tags": []
          },
          "execution_count": 140
        }
      ]
    },
    {
      "cell_type": "code",
      "metadata": {
        "id": "fRZmVS7uZYXB",
        "colab": {
          "base_uri": "https://localhost:8080/"
        },
        "outputId": "a92414a5-b9b1-4fb8-b682-e03bc2782e87"
      },
      "source": [
        "churn_df.info()"
      ],
      "execution_count": 141,
      "outputs": [
        {
          "output_type": "stream",
          "text": [
            "<class 'pandas.core.frame.DataFrame'>\n",
            "RangeIndex: 5000 entries, 0 to 4999\n",
            "Data columns (total 21 columns):\n",
            " #   Column          Non-Null Count  Dtype  \n",
            "---  ------          --------------  -----  \n",
            " 0   State           5000 non-null   object \n",
            " 1   Account Length  5000 non-null   int64  \n",
            " 2   Area Code       5000 non-null   int64  \n",
            " 3   Phone           5000 non-null   object \n",
            " 4   Int'l Plan      5000 non-null   object \n",
            " 5   VMail Plan      5000 non-null   object \n",
            " 6   VMail Message   5000 non-null   int64  \n",
            " 7   Day Mins        5000 non-null   float64\n",
            " 8   Day Calls       5000 non-null   int64  \n",
            " 9   Day Charge      5000 non-null   float64\n",
            " 10  Eve Mins        5000 non-null   float64\n",
            " 11  Eve Calls       5000 non-null   int64  \n",
            " 12  Eve Charge      5000 non-null   float64\n",
            " 13  Night Mins      5000 non-null   float64\n",
            " 14  Night Calls     5000 non-null   int64  \n",
            " 15  Night Charge    5000 non-null   float64\n",
            " 16  Intl Mins       5000 non-null   float64\n",
            " 17  Intl Calls      5000 non-null   int64  \n",
            " 18  Intl Charge     5000 non-null   float64\n",
            " 19  CustServ Calls  5000 non-null   int64  \n",
            " 20  Churn?          5000 non-null   object \n",
            "dtypes: float64(8), int64(8), object(5)\n",
            "memory usage: 820.4+ KB\n"
          ],
          "name": "stdout"
        }
      ]
    },
    {
      "cell_type": "code",
      "metadata": {
        "colab": {
          "base_uri": "https://localhost:8080/",
          "height": 195
        },
        "id": "G_REgN8WX4TL",
        "outputId": "10cb98d6-fa74-4385-a433-0db237574fe2"
      },
      "source": [
        "import numpy as np\n",
        "\n",
        "cols = ['Day Mins', 'Day Charge', 'Eve Mins', 'Eve Charge', 'Night Mins', 'Night Charge', 'Intl Mins', 'Intl Charge', 'CustServ Calls', 'Churn?']\n",
        "churn_data = churn_df[cols].copy()\n",
        "churn_data['Churn'] = np.where(churn_data['Churn?'] =='True.', 1, 0)\n",
        "churn_data.head()"
      ],
      "execution_count": 142,
      "outputs": [
        {
          "output_type": "execute_result",
          "data": {
            "text/html": [
              "<div>\n",
              "<style scoped>\n",
              "    .dataframe tbody tr th:only-of-type {\n",
              "        vertical-align: middle;\n",
              "    }\n",
              "\n",
              "    .dataframe tbody tr th {\n",
              "        vertical-align: top;\n",
              "    }\n",
              "\n",
              "    .dataframe thead th {\n",
              "        text-align: right;\n",
              "    }\n",
              "</style>\n",
              "<table border=\"1\" class=\"dataframe\">\n",
              "  <thead>\n",
              "    <tr style=\"text-align: right;\">\n",
              "      <th></th>\n",
              "      <th>Day Mins</th>\n",
              "      <th>Day Charge</th>\n",
              "      <th>Eve Mins</th>\n",
              "      <th>Eve Charge</th>\n",
              "      <th>Night Mins</th>\n",
              "      <th>Night Charge</th>\n",
              "      <th>Intl Mins</th>\n",
              "      <th>Intl Charge</th>\n",
              "      <th>CustServ Calls</th>\n",
              "      <th>Churn?</th>\n",
              "      <th>Churn</th>\n",
              "    </tr>\n",
              "  </thead>\n",
              "  <tbody>\n",
              "    <tr>\n",
              "      <th>0</th>\n",
              "      <td>8.162204</td>\n",
              "      <td>7.579174</td>\n",
              "      <td>3.933035</td>\n",
              "      <td>6.508639</td>\n",
              "      <td>4.065759</td>\n",
              "      <td>5.111624</td>\n",
              "      <td>4.928160</td>\n",
              "      <td>5.673203</td>\n",
              "      <td>3</td>\n",
              "      <td>True.</td>\n",
              "      <td>1</td>\n",
              "    </tr>\n",
              "    <tr>\n",
              "      <th>1</th>\n",
              "      <td>10.018993</td>\n",
              "      <td>4.226289</td>\n",
              "      <td>2.325005</td>\n",
              "      <td>9.972592</td>\n",
              "      <td>7.141040</td>\n",
              "      <td>6.436188</td>\n",
              "      <td>3.221748</td>\n",
              "      <td>2.559749</td>\n",
              "      <td>8</td>\n",
              "      <td>False.</td>\n",
              "      <td>0</td>\n",
              "    </tr>\n",
              "    <tr>\n",
              "      <th>2</th>\n",
              "      <td>4.708490</td>\n",
              "      <td>4.768160</td>\n",
              "      <td>4.537466</td>\n",
              "      <td>4.566715</td>\n",
              "      <td>5.363235</td>\n",
              "      <td>5.142451</td>\n",
              "      <td>7.139023</td>\n",
              "      <td>6.254157</td>\n",
              "      <td>4</td>\n",
              "      <td>False.</td>\n",
              "      <td>0</td>\n",
              "    </tr>\n",
              "    <tr>\n",
              "      <th>3</th>\n",
              "      <td>1.268734</td>\n",
              "      <td>2.567642</td>\n",
              "      <td>2.528748</td>\n",
              "      <td>2.333624</td>\n",
              "      <td>3.773586</td>\n",
              "      <td>3.814413</td>\n",
              "      <td>2.245779</td>\n",
              "      <td>1.080692</td>\n",
              "      <td>6</td>\n",
              "      <td>False.</td>\n",
              "      <td>0</td>\n",
              "    </tr>\n",
              "    <tr>\n",
              "      <th>4</th>\n",
              "      <td>2.696177</td>\n",
              "      <td>5.908916</td>\n",
              "      <td>6.015337</td>\n",
              "      <td>3.670408</td>\n",
              "      <td>3.751673</td>\n",
              "      <td>2.796812</td>\n",
              "      <td>6.905545</td>\n",
              "      <td>7.134343</td>\n",
              "      <td>6</td>\n",
              "      <td>True.</td>\n",
              "      <td>1</td>\n",
              "    </tr>\n",
              "  </tbody>\n",
              "</table>\n",
              "</div>"
            ],
            "text/plain": [
              "    Day Mins  Day Charge  Eve Mins  ...  CustServ Calls  Churn?  Churn\n",
              "0   8.162204    7.579174  3.933035  ...               3   True.      1\n",
              "1  10.018993    4.226289  2.325005  ...               8  False.      0\n",
              "2   4.708490    4.768160  4.537466  ...               4  False.      0\n",
              "3   1.268734    2.567642  2.528748  ...               6  False.      0\n",
              "4   2.696177    5.908916  6.015337  ...               6   True.      1\n",
              "\n",
              "[5 rows x 11 columns]"
            ]
          },
          "metadata": {
            "tags": []
          },
          "execution_count": 142
        }
      ]
    },
    {
      "cell_type": "code",
      "metadata": {
        "colab": {
          "base_uri": "https://localhost:8080/"
        },
        "id": "LZ0SrFGWcAmV",
        "outputId": "a1b52c93-fea9-4b34-fb91-5c4c2782c154"
      },
      "source": [
        "churn_data['Churn'].value_counts()"
      ],
      "execution_count": 143,
      "outputs": [
        {
          "output_type": "execute_result",
          "data": {
            "text/plain": [
              "0    2502\n",
              "1    2498\n",
              "Name: Churn, dtype: int64"
            ]
          },
          "metadata": {
            "tags": []
          },
          "execution_count": 143
        }
      ]
    },
    {
      "cell_type": "code",
      "metadata": {
        "colab": {
          "base_uri": "https://localhost:8080/"
        },
        "id": "J9VZJu35bD5N",
        "outputId": "2afb19ae-6a6a-49dc-9c25-593911710d73"
      },
      "source": [
        "features = ['Day Mins', 'Day Charge', 'Eve Mins', 'Eve Charge', 'Night Mins', 'Night Charge', 'Intl Mins', 'Intl Charge', 'CustServ Calls']\n",
        "target = 'Churn'\n",
        "\n",
        "X = churn_data[features].values\n",
        "y = churn_data[target].values\n",
        "X.shape, y.shape"
      ],
      "execution_count": 144,
      "outputs": [
        {
          "output_type": "execute_result",
          "data": {
            "text/plain": [
              "((5000, 9), (5000,))"
            ]
          },
          "metadata": {
            "tags": []
          },
          "execution_count": 144
        }
      ]
    },
    {
      "cell_type": "code",
      "metadata": {
        "colab": {
          "base_uri": "https://localhost:8080/"
        },
        "id": "rnkjk7SieiU6",
        "outputId": "1389810b-376d-49a5-ec34-c364e25b7ab4"
      },
      "source": [
        "from sklearn.model_selection import train_test_split\n",
        "\n",
        "X_train, X_valid, y_train, y_valid = train_test_split(X, y, test_size=0.25, random_state=0)\n",
        "\n",
        "X_train.shape, X_valid.shape, y_train.shape, y_valid.shape"
      ],
      "execution_count": 145,
      "outputs": [
        {
          "output_type": "execute_result",
          "data": {
            "text/plain": [
              "((3750, 9), (1250, 9), (3750,), (1250,))"
            ]
          },
          "metadata": {
            "tags": []
          },
          "execution_count": 145
        }
      ]
    },
    {
      "cell_type": "code",
      "metadata": {
        "colab": {
          "base_uri": "https://localhost:8080/"
        },
        "id": "lkR8HIEghGrq",
        "outputId": "d27ea590-a676-47fa-97de-2848ce7c9c7c"
      },
      "source": [
        "X_train"
      ],
      "execution_count": 146,
      "outputs": [
        {
          "output_type": "execute_result",
          "data": {
            "text/plain": [
              "array([[13.23664371, 11.00768366,  5.54973717, ...,  6.12155121,\n",
              "         3.12411923,  3.        ],\n",
              "       [ 3.64623966,  4.11254353,  2.83378984, ...,  5.58227412,\n",
              "         2.96599581,  7.        ],\n",
              "       [ 0.53955568,  3.66313094,  0.08811627, ...,  4.46893939,\n",
              "         1.29072559,  4.        ],\n",
              "       ...,\n",
              "       [10.40811761,  6.20244068,  7.00614012, ...,  4.32914583,\n",
              "         4.21910436,  3.        ],\n",
              "       [10.0109857 ,  7.35504399,  6.7736002 , ...,  3.69210465,\n",
              "         6.18139625,  4.        ],\n",
              "       [ 1.65060626,  4.23125228,  4.88634033, ...,  6.5126707 ,\n",
              "         3.49669158,  5.        ]])"
            ]
          },
          "metadata": {
            "tags": []
          },
          "execution_count": 146
        }
      ]
    },
    {
      "cell_type": "code",
      "metadata": {
        "colab": {
          "base_uri": "https://localhost:8080/"
        },
        "id": "KjtKtLGYhJpu",
        "outputId": "7bcb672e-b32a-4a34-bec5-c68914d0e83f"
      },
      "source": [
        "y_train"
      ],
      "execution_count": 147,
      "outputs": [
        {
          "output_type": "execute_result",
          "data": {
            "text/plain": [
              "array([1, 0, 0, ..., 1, 1, 0])"
            ]
          },
          "metadata": {
            "tags": []
          },
          "execution_count": 147
        }
      ]
    },
    {
      "cell_type": "markdown",
      "metadata": {
        "id": "1BXUSmc4qz12"
      },
      "source": [
        "Consider whether you should normalize using:\n",
        "https://keras.io/api/utils/python_utils/#normalize-function"
      ]
    },
    {
      "cell_type": "code",
      "metadata": {
        "colab": {
          "base_uri": "https://localhost:8080/"
        },
        "id": "XmUFFrOCqZ29",
        "outputId": "f6032b99-4c3e-49a8-e0b0-6dc8638e260f"
      },
      "source": [
        "from tensorflow.keras.utils import normalize\n",
        "normalize(X_train)"
      ],
      "execution_count": 148,
      "outputs": [
        {
          "output_type": "execute_result",
          "data": {
            "text/plain": [
              "array([[0.58607787, 0.48738637, 0.24572529, ..., 0.27104346, 0.13832639,\n",
              "        0.13283077],\n",
              "       [0.26781313, 0.30206275, 0.2081394 , ..., 0.41001318, 0.21784981,\n",
              "        0.51414392],\n",
              "       [0.05635927, 0.3826322 , 0.00920418, ..., 0.4668029 , 0.13482269,\n",
              "        0.41781985],\n",
              "       ...,\n",
              "       [0.55363115, 0.32992175, 0.37267233, ..., 0.23027699, 0.22442364,\n",
              "        0.15957674],\n",
              "       [0.51603819, 0.37913186, 0.34916006, ..., 0.19031762, 0.31863361,\n",
              "        0.20618876],\n",
              "       [0.13923357, 0.35691877, 0.41217741, ..., 0.54936323, 0.29495638,\n",
              "        0.42176494]])"
            ]
          },
          "metadata": {
            "tags": []
          },
          "execution_count": 148
        }
      ]
    },
    {
      "cell_type": "code",
      "metadata": {
        "id": "28Iqw-PMLgcD"
      },
      "source": [
        "model = Sequential()\n",
        "model.add(Dense(units=4, activation='relu', input_shape=(9,)))\n",
        "model.add(Dense(units=8, activation='relu'))\n",
        "model.add(Dense(units=4, activation='relu'))\n",
        "model.add(Dense(units=1, activation='sigmoid'))"
      ],
      "execution_count": 173,
      "outputs": []
    },
    {
      "cell_type": "code",
      "metadata": {
        "colab": {
          "base_uri": "https://localhost:8080/"
        },
        "id": "ByvfyVRPLzCa",
        "outputId": "d08220d4-b4a2-4731-d5b8-ea2e32c4a96d"
      },
      "source": [
        "model.summary()"
      ],
      "execution_count": 174,
      "outputs": [
        {
          "output_type": "stream",
          "text": [
            "Model: \"sequential_10\"\n",
            "_________________________________________________________________\n",
            "Layer (type)                 Output Shape              Param #   \n",
            "=================================================================\n",
            "dense_40 (Dense)             (None, 4)                 40        \n",
            "_________________________________________________________________\n",
            "dense_41 (Dense)             (None, 8)                 40        \n",
            "_________________________________________________________________\n",
            "dense_42 (Dense)             (None, 4)                 36        \n",
            "_________________________________________________________________\n",
            "dense_43 (Dense)             (None, 1)                 5         \n",
            "=================================================================\n",
            "Total params: 121\n",
            "Trainable params: 121\n",
            "Non-trainable params: 0\n",
            "_________________________________________________________________\n"
          ],
          "name": "stdout"
        }
      ]
    },
    {
      "cell_type": "code",
      "metadata": {
        "id": "JBA272UFMMPn"
      },
      "source": [
        "model.compile(loss='binary_crossentropy', optimizer=SGD(learning_rate=0.01), metrics=['accuracy'])"
      ],
      "execution_count": 176,
      "outputs": []
    },
    {
      "cell_type": "code",
      "metadata": {
        "colab": {
          "base_uri": "https://localhost:8080/"
        },
        "id": "t5VENxyVMUHf",
        "outputId": "37c00499-8cbb-4e55-d946-c5acd6ff8cc9"
      },
      "source": [
        "model.fit(X_train, y_train, batch_size=16, epochs=20, verbose=1, validation_data=(X_valid, y_valid))"
      ],
      "execution_count": 178,
      "outputs": [
        {
          "output_type": "stream",
          "text": [
            "Epoch 1/20\n",
            "235/235 [==============================] - 0s 2ms/step - loss: 0.3468 - accuracy: 0.8624 - val_loss: 0.3516 - val_accuracy: 0.8520\n",
            "Epoch 2/20\n",
            "235/235 [==============================] - 0s 2ms/step - loss: 0.3411 - accuracy: 0.8640 - val_loss: 0.3625 - val_accuracy: 0.8504\n",
            "Epoch 3/20\n",
            "235/235 [==============================] - 0s 2ms/step - loss: 0.3362 - accuracy: 0.8616 - val_loss: 0.3398 - val_accuracy: 0.8560\n",
            "Epoch 4/20\n",
            "235/235 [==============================] - 0s 2ms/step - loss: 0.3320 - accuracy: 0.8656 - val_loss: 0.3474 - val_accuracy: 0.8592\n",
            "Epoch 5/20\n",
            "235/235 [==============================] - 0s 2ms/step - loss: 0.3321 - accuracy: 0.8645 - val_loss: 0.3432 - val_accuracy: 0.8616\n",
            "Epoch 6/20\n",
            "235/235 [==============================] - 0s 2ms/step - loss: 0.3263 - accuracy: 0.8701 - val_loss: 0.3359 - val_accuracy: 0.8608\n",
            "Epoch 7/20\n",
            "235/235 [==============================] - 0s 2ms/step - loss: 0.3251 - accuracy: 0.8715 - val_loss: 0.3277 - val_accuracy: 0.8624\n",
            "Epoch 8/20\n",
            "235/235 [==============================] - 0s 2ms/step - loss: 0.3284 - accuracy: 0.8664 - val_loss: 0.3333 - val_accuracy: 0.8608\n",
            "Epoch 9/20\n",
            "235/235 [==============================] - 0s 2ms/step - loss: 0.3212 - accuracy: 0.8736 - val_loss: 0.3239 - val_accuracy: 0.8648\n",
            "Epoch 10/20\n",
            "235/235 [==============================] - 0s 2ms/step - loss: 0.3244 - accuracy: 0.8699 - val_loss: 0.3306 - val_accuracy: 0.8584\n",
            "Epoch 11/20\n",
            "235/235 [==============================] - 0s 2ms/step - loss: 0.3202 - accuracy: 0.8707 - val_loss: 0.3215 - val_accuracy: 0.8728\n",
            "Epoch 12/20\n",
            "235/235 [==============================] - 0s 2ms/step - loss: 0.3219 - accuracy: 0.8685 - val_loss: 0.3348 - val_accuracy: 0.8584\n",
            "Epoch 13/20\n",
            "235/235 [==============================] - 0s 2ms/step - loss: 0.3193 - accuracy: 0.8723 - val_loss: 0.3211 - val_accuracy: 0.8720\n",
            "Epoch 14/20\n",
            "235/235 [==============================] - 0s 2ms/step - loss: 0.3215 - accuracy: 0.8725 - val_loss: 0.3411 - val_accuracy: 0.8496\n",
            "Epoch 15/20\n",
            "235/235 [==============================] - 0s 2ms/step - loss: 0.3145 - accuracy: 0.8755 - val_loss: 0.3196 - val_accuracy: 0.8672\n",
            "Epoch 16/20\n",
            "235/235 [==============================] - 0s 2ms/step - loss: 0.3185 - accuracy: 0.8709 - val_loss: 0.4183 - val_accuracy: 0.8184\n",
            "Epoch 17/20\n",
            "235/235 [==============================] - 0s 2ms/step - loss: 0.3131 - accuracy: 0.8749 - val_loss: 0.3175 - val_accuracy: 0.8720\n",
            "Epoch 18/20\n",
            "235/235 [==============================] - 0s 2ms/step - loss: 0.3167 - accuracy: 0.8723 - val_loss: 0.3337 - val_accuracy: 0.8584\n",
            "Epoch 19/20\n",
            "235/235 [==============================] - 0s 1ms/step - loss: 0.3168 - accuracy: 0.8712 - val_loss: 0.3526 - val_accuracy: 0.8488\n",
            "Epoch 20/20\n",
            "235/235 [==============================] - 0s 1ms/step - loss: 0.3136 - accuracy: 0.8776 - val_loss: 0.3352 - val_accuracy: 0.8528\n"
          ],
          "name": "stdout"
        },
        {
          "output_type": "execute_result",
          "data": {
            "text/plain": [
              "<keras.callbacks.History at 0x7fae32fae990>"
            ]
          },
          "metadata": {
            "tags": []
          },
          "execution_count": 178
        }
      ]
    },
    {
      "cell_type": "code",
      "metadata": {
        "colab": {
          "base_uri": "https://localhost:8080/"
        },
        "id": "nUOwQi2kNQv7",
        "outputId": "75664590-ce24-4ae2-a7dc-25272ff2b192"
      },
      "source": [
        "model.evaluate(X_valid, y_valid)"
      ],
      "execution_count": 169,
      "outputs": [
        {
          "output_type": "stream",
          "text": [
            "40/40 [==============================] - 0s 1ms/step - loss: 0.0740 - accuracy: 0.9088\n"
          ],
          "name": "stdout"
        },
        {
          "output_type": "execute_result",
          "data": {
            "text/plain": [
              "[0.07404237240552902, 0.9088000059127808]"
            ]
          },
          "metadata": {
            "tags": []
          },
          "execution_count": 169
        }
      ]
    },
    {
      "cell_type": "code",
      "metadata": {
        "colab": {
          "base_uri": "https://localhost:8080/"
        },
        "id": "OCiK4j3RNQ7V",
        "outputId": "27773af3-0eac-4cb3-b9f3-30f7260ca817"
      },
      "source": [
        "y_valid[0]"
      ],
      "execution_count": 170,
      "outputs": [
        {
          "output_type": "execute_result",
          "data": {
            "text/plain": [
              "0"
            ]
          },
          "metadata": {
            "tags": []
          },
          "execution_count": 170
        }
      ]
    },
    {
      "cell_type": "code",
      "metadata": {
        "colab": {
          "base_uri": "https://localhost:8080/"
        },
        "id": "dUgBJIA1NRDv",
        "outputId": "796adbc4-4a7c-43f2-c3c8-14db0d0ebe66"
      },
      "source": [
        "model.predict(X_valid[0].reshape(1,-1))"
      ],
      "execution_count": 171,
      "outputs": [
        {
          "output_type": "execute_result",
          "data": {
            "text/plain": [
              "array([[0.00560635]], dtype=float32)"
            ]
          },
          "metadata": {
            "tags": []
          },
          "execution_count": 171
        }
      ]
    }
  ]
}