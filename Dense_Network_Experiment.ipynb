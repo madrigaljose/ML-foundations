{
  "nbformat": 4,
  "nbformat_minor": 0,
  "metadata": {
    "colab": {
      "name": "Dense_Network_Experiment.ipynb",
      "provenance": [],
      "collapsed_sections": [],
      "include_colab_link": true
    },
    "kernelspec": {
      "name": "python3",
      "display_name": "Python 3"
    },
    "language_info": {
      "name": "python"
    }
  },
  "cells": [
    {
      "cell_type": "markdown",
      "metadata": {
        "id": "view-in-github",
        "colab_type": "text"
      },
      "source": [
        "<a href=\"https://colab.research.google.com/github/madrigaljose/ML-foundations/blob/master/Dense_Network_Experiment.ipynb\" target=\"_parent\"><img src=\"https://colab.research.google.com/assets/colab-badge.svg\" alt=\"Open In Colab\"/></a>"
      ]
    },
    {
      "cell_type": "code",
      "metadata": {
        "id": "v59huRLzkPxX"
      },
      "source": [
        "import keras\n",
        "import tensorflow\n",
        "import pandas as pd\n",
        "import numpy as np\n",
        "\n",
        "from keras.datasets import mnist\n",
        "from keras.models import Sequential\n",
        "from keras.layers import Dense\n",
        "from keras.optimizers import SGD"
      ],
      "execution_count": 18,
      "outputs": []
    },
    {
      "cell_type": "code",
      "metadata": {
        "colab": {
          "base_uri": "https://localhost:8080/",
          "height": 195
        },
        "id": "RPxwxKlvRaji",
        "outputId": "40378229-da05-41dd-8d69-cdb6713b731f"
      },
      "source": [
        "from seaborn import load_dataset\n",
        "iris_df = load_dataset(\"iris\")\n",
        "iris_df.species = pd.Categorical(iris_df.species, categories=['setosa','versicolor','virginica'])\n",
        "iris_df.head()"
      ],
      "execution_count": 19,
      "outputs": [
        {
          "output_type": "execute_result",
          "data": {
            "text/html": [
              "<div>\n",
              "<style scoped>\n",
              "    .dataframe tbody tr th:only-of-type {\n",
              "        vertical-align: middle;\n",
              "    }\n",
              "\n",
              "    .dataframe tbody tr th {\n",
              "        vertical-align: top;\n",
              "    }\n",
              "\n",
              "    .dataframe thead th {\n",
              "        text-align: right;\n",
              "    }\n",
              "</style>\n",
              "<table border=\"1\" class=\"dataframe\">\n",
              "  <thead>\n",
              "    <tr style=\"text-align: right;\">\n",
              "      <th></th>\n",
              "      <th>sepal_length</th>\n",
              "      <th>sepal_width</th>\n",
              "      <th>petal_length</th>\n",
              "      <th>petal_width</th>\n",
              "      <th>species</th>\n",
              "    </tr>\n",
              "  </thead>\n",
              "  <tbody>\n",
              "    <tr>\n",
              "      <th>0</th>\n",
              "      <td>5.1</td>\n",
              "      <td>3.5</td>\n",
              "      <td>1.4</td>\n",
              "      <td>0.2</td>\n",
              "      <td>setosa</td>\n",
              "    </tr>\n",
              "    <tr>\n",
              "      <th>1</th>\n",
              "      <td>4.9</td>\n",
              "      <td>3.0</td>\n",
              "      <td>1.4</td>\n",
              "      <td>0.2</td>\n",
              "      <td>setosa</td>\n",
              "    </tr>\n",
              "    <tr>\n",
              "      <th>2</th>\n",
              "      <td>4.7</td>\n",
              "      <td>3.2</td>\n",
              "      <td>1.3</td>\n",
              "      <td>0.2</td>\n",
              "      <td>setosa</td>\n",
              "    </tr>\n",
              "    <tr>\n",
              "      <th>3</th>\n",
              "      <td>4.6</td>\n",
              "      <td>3.1</td>\n",
              "      <td>1.5</td>\n",
              "      <td>0.2</td>\n",
              "      <td>setosa</td>\n",
              "    </tr>\n",
              "    <tr>\n",
              "      <th>4</th>\n",
              "      <td>5.0</td>\n",
              "      <td>3.6</td>\n",
              "      <td>1.4</td>\n",
              "      <td>0.2</td>\n",
              "      <td>setosa</td>\n",
              "    </tr>\n",
              "  </tbody>\n",
              "</table>\n",
              "</div>"
            ],
            "text/plain": [
              "   sepal_length  sepal_width  petal_length  petal_width species\n",
              "0           5.1          3.5           1.4          0.2  setosa\n",
              "1           4.9          3.0           1.4          0.2  setosa\n",
              "2           4.7          3.2           1.3          0.2  setosa\n",
              "3           4.6          3.1           1.5          0.2  setosa\n",
              "4           5.0          3.6           1.4          0.2  setosa"
            ]
          },
          "metadata": {
            "tags": []
          },
          "execution_count": 19
        }
      ]
    },
    {
      "cell_type": "code",
      "metadata": {
        "colab": {
          "base_uri": "https://localhost:8080/",
          "height": 195
        },
        "id": "Pa01oddPnioT",
        "outputId": "028f85ee-8241-493e-d20d-c7dba8a48f14"
      },
      "source": [
        "iris_df.tail()"
      ],
      "execution_count": 20,
      "outputs": [
        {
          "output_type": "execute_result",
          "data": {
            "text/html": [
              "<div>\n",
              "<style scoped>\n",
              "    .dataframe tbody tr th:only-of-type {\n",
              "        vertical-align: middle;\n",
              "    }\n",
              "\n",
              "    .dataframe tbody tr th {\n",
              "        vertical-align: top;\n",
              "    }\n",
              "\n",
              "    .dataframe thead th {\n",
              "        text-align: right;\n",
              "    }\n",
              "</style>\n",
              "<table border=\"1\" class=\"dataframe\">\n",
              "  <thead>\n",
              "    <tr style=\"text-align: right;\">\n",
              "      <th></th>\n",
              "      <th>sepal_length</th>\n",
              "      <th>sepal_width</th>\n",
              "      <th>petal_length</th>\n",
              "      <th>petal_width</th>\n",
              "      <th>species</th>\n",
              "    </tr>\n",
              "  </thead>\n",
              "  <tbody>\n",
              "    <tr>\n",
              "      <th>145</th>\n",
              "      <td>6.7</td>\n",
              "      <td>3.0</td>\n",
              "      <td>5.2</td>\n",
              "      <td>2.3</td>\n",
              "      <td>virginica</td>\n",
              "    </tr>\n",
              "    <tr>\n",
              "      <th>146</th>\n",
              "      <td>6.3</td>\n",
              "      <td>2.5</td>\n",
              "      <td>5.0</td>\n",
              "      <td>1.9</td>\n",
              "      <td>virginica</td>\n",
              "    </tr>\n",
              "    <tr>\n",
              "      <th>147</th>\n",
              "      <td>6.5</td>\n",
              "      <td>3.0</td>\n",
              "      <td>5.2</td>\n",
              "      <td>2.0</td>\n",
              "      <td>virginica</td>\n",
              "    </tr>\n",
              "    <tr>\n",
              "      <th>148</th>\n",
              "      <td>6.2</td>\n",
              "      <td>3.4</td>\n",
              "      <td>5.4</td>\n",
              "      <td>2.3</td>\n",
              "      <td>virginica</td>\n",
              "    </tr>\n",
              "    <tr>\n",
              "      <th>149</th>\n",
              "      <td>5.9</td>\n",
              "      <td>3.0</td>\n",
              "      <td>5.1</td>\n",
              "      <td>1.8</td>\n",
              "      <td>virginica</td>\n",
              "    </tr>\n",
              "  </tbody>\n",
              "</table>\n",
              "</div>"
            ],
            "text/plain": [
              "     sepal_length  sepal_width  petal_length  petal_width    species\n",
              "145           6.7          3.0           5.2          2.3  virginica\n",
              "146           6.3          2.5           5.0          1.9  virginica\n",
              "147           6.5          3.0           5.2          2.0  virginica\n",
              "148           6.2          3.4           5.4          2.3  virginica\n",
              "149           5.9          3.0           5.1          1.8  virginica"
            ]
          },
          "metadata": {
            "tags": []
          },
          "execution_count": 20
        }
      ]
    },
    {
      "cell_type": "code",
      "metadata": {
        "colab": {
          "base_uri": "https://localhost:8080/"
        },
        "id": "C1otbuPPRpJb",
        "outputId": "ee72c952-215e-461c-8255-350e5f904c73"
      },
      "source": [
        "iris_df.species.value_counts()"
      ],
      "execution_count": 21,
      "outputs": [
        {
          "output_type": "execute_result",
          "data": {
            "text/plain": [
              "virginica     50\n",
              "versicolor    50\n",
              "setosa        50\n",
              "Name: species, dtype: int64"
            ]
          },
          "metadata": {
            "tags": []
          },
          "execution_count": 21
        }
      ]
    },
    {
      "cell_type": "code",
      "metadata": {
        "colab": {
          "base_uri": "https://localhost:8080/"
        },
        "id": "spFPi5OvmNLN",
        "outputId": "eb0dff1d-8da6-4e18-e164-fd2cdd58d190"
      },
      "source": [
        "iris_df.species.cat.codes.value_counts()"
      ],
      "execution_count": 22,
      "outputs": [
        {
          "output_type": "execute_result",
          "data": {
            "text/plain": [
              "2    50\n",
              "1    50\n",
              "0    50\n",
              "dtype: int64"
            ]
          },
          "metadata": {
            "tags": []
          },
          "execution_count": 22
        }
      ]
    },
    {
      "cell_type": "code",
      "metadata": {
        "colab": {
          "base_uri": "https://localhost:8080/",
          "height": 106
        },
        "id": "hmdGXStxiX9T",
        "outputId": "b792f40d-986b-42fa-e4a5-e08f94405233"
      },
      "source": [
        "X = iris_df.drop('species', axis=1)\n",
        "X.head(2)"
      ],
      "execution_count": 23,
      "outputs": [
        {
          "output_type": "execute_result",
          "data": {
            "text/html": [
              "<div>\n",
              "<style scoped>\n",
              "    .dataframe tbody tr th:only-of-type {\n",
              "        vertical-align: middle;\n",
              "    }\n",
              "\n",
              "    .dataframe tbody tr th {\n",
              "        vertical-align: top;\n",
              "    }\n",
              "\n",
              "    .dataframe thead th {\n",
              "        text-align: right;\n",
              "    }\n",
              "</style>\n",
              "<table border=\"1\" class=\"dataframe\">\n",
              "  <thead>\n",
              "    <tr style=\"text-align: right;\">\n",
              "      <th></th>\n",
              "      <th>sepal_length</th>\n",
              "      <th>sepal_width</th>\n",
              "      <th>petal_length</th>\n",
              "      <th>petal_width</th>\n",
              "    </tr>\n",
              "  </thead>\n",
              "  <tbody>\n",
              "    <tr>\n",
              "      <th>0</th>\n",
              "      <td>5.1</td>\n",
              "      <td>3.5</td>\n",
              "      <td>1.4</td>\n",
              "      <td>0.2</td>\n",
              "    </tr>\n",
              "    <tr>\n",
              "      <th>1</th>\n",
              "      <td>4.9</td>\n",
              "      <td>3.0</td>\n",
              "      <td>1.4</td>\n",
              "      <td>0.2</td>\n",
              "    </tr>\n",
              "  </tbody>\n",
              "</table>\n",
              "</div>"
            ],
            "text/plain": [
              "   sepal_length  sepal_width  petal_length  petal_width\n",
              "0           5.1          3.5           1.4          0.2\n",
              "1           4.9          3.0           1.4          0.2"
            ]
          },
          "metadata": {
            "tags": []
          },
          "execution_count": 23
        }
      ]
    },
    {
      "cell_type": "code",
      "metadata": {
        "colab": {
          "base_uri": "https://localhost:8080/"
        },
        "id": "oFHwv2SopDEj",
        "outputId": "da6c606c-a941-4878-a83b-fed2582c770b"
      },
      "source": [
        "X=X.values\n",
        "X.shape"
      ],
      "execution_count": 24,
      "outputs": [
        {
          "output_type": "execute_result",
          "data": {
            "text/plain": [
              "(150, 4)"
            ]
          },
          "metadata": {
            "tags": []
          },
          "execution_count": 24
        }
      ]
    },
    {
      "cell_type": "code",
      "metadata": {
        "colab": {
          "base_uri": "https://localhost:8080/"
        },
        "id": "pK8Z8qi4iw2G",
        "outputId": "4bf0c174-aab1-43e0-b52b-77b08a829409"
      },
      "source": [
        "y = iris_df.species.cat.codes\n",
        "y.head()"
      ],
      "execution_count": 25,
      "outputs": [
        {
          "output_type": "execute_result",
          "data": {
            "text/plain": [
              "0    0\n",
              "1    0\n",
              "2    0\n",
              "3    0\n",
              "4    0\n",
              "dtype: int8"
            ]
          },
          "metadata": {
            "tags": []
          },
          "execution_count": 25
        }
      ]
    },
    {
      "cell_type": "code",
      "metadata": {
        "colab": {
          "base_uri": "https://localhost:8080/"
        },
        "id": "xRseTKX9nu4U",
        "outputId": "fac65d8e-e14c-41a6-b21e-6c9430f6d381"
      },
      "source": [
        "y.tail()"
      ],
      "execution_count": 26,
      "outputs": [
        {
          "output_type": "execute_result",
          "data": {
            "text/plain": [
              "145    2\n",
              "146    2\n",
              "147    2\n",
              "148    2\n",
              "149    2\n",
              "dtype: int8"
            ]
          },
          "metadata": {
            "tags": []
          },
          "execution_count": 26
        }
      ]
    },
    {
      "cell_type": "code",
      "metadata": {
        "colab": {
          "base_uri": "https://localhost:8080/"
        },
        "id": "euNsBv9hpYwE",
        "outputId": "6d5404c3-e5fc-4d00-aa78-35b47aa35d08"
      },
      "source": [
        "y=y.values\n",
        "y.shape"
      ],
      "execution_count": 27,
      "outputs": [
        {
          "output_type": "execute_result",
          "data": {
            "text/plain": [
              "(150,)"
            ]
          },
          "metadata": {
            "tags": []
          },
          "execution_count": 27
        }
      ]
    },
    {
      "cell_type": "code",
      "metadata": {
        "colab": {
          "base_uri": "https://localhost:8080/"
        },
        "id": "YHN8Ttcch3Vd",
        "outputId": "a8146ff0-4151-4a4b-d946-41c64fdb147d"
      },
      "source": [
        "from sklearn.model_selection import train_test_split\n",
        "\n",
        "X_train, X_valid, y_train, y_valid = train_test_split(X, y, test_size=0.25, random_state=0, stratify=y)\n",
        "\n",
        "X_train.shape, X_valid.shape, y_train.shape, y_valid.shape"
      ],
      "execution_count": 28,
      "outputs": [
        {
          "output_type": "execute_result",
          "data": {
            "text/plain": [
              "((112, 4), (38, 4), (112,), (38,))"
            ]
          },
          "metadata": {
            "tags": []
          },
          "execution_count": 28
        }
      ]
    },
    {
      "cell_type": "code",
      "metadata": {
        "colab": {
          "base_uri": "https://localhost:8080/"
        },
        "id": "e_pjpi70ocMt",
        "outputId": "e0207acc-585e-480a-f79c-74a68d42a09f"
      },
      "source": [
        "y_train[0]"
      ],
      "execution_count": 29,
      "outputs": [
        {
          "output_type": "execute_result",
          "data": {
            "text/plain": [
              "1"
            ]
          },
          "metadata": {
            "tags": []
          },
          "execution_count": 29
        }
      ]
    },
    {
      "cell_type": "code",
      "metadata": {
        "id": "Kdk1yPxIjtp8"
      },
      "source": [
        "from tensorflow.keras.utils import to_categorical\n",
        "n_classes = 3\n",
        "y_train = to_categorical(y_train, n_classes)\n",
        "y_valid = to_categorical(y_valid, n_classes)"
      ],
      "execution_count": 31,
      "outputs": []
    },
    {
      "cell_type": "code",
      "metadata": {
        "colab": {
          "base_uri": "https://localhost:8080/"
        },
        "id": "nUob46tIoGIj",
        "outputId": "8fd6b7ea-8d5b-4d55-8ae6-64f463a03a46"
      },
      "source": [
        "y_train.shape, y_valid.shape"
      ],
      "execution_count": 32,
      "outputs": [
        {
          "output_type": "execute_result",
          "data": {
            "text/plain": [
              "((112, 3), (38, 3))"
            ]
          },
          "metadata": {
            "tags": []
          },
          "execution_count": 32
        }
      ]
    },
    {
      "cell_type": "code",
      "metadata": {
        "colab": {
          "base_uri": "https://localhost:8080/"
        },
        "id": "zg8VxpmwoSAd",
        "outputId": "543b4cdf-fbce-4674-a13c-4bcf06b9f193"
      },
      "source": [
        "y_train[0]"
      ],
      "execution_count": 33,
      "outputs": [
        {
          "output_type": "execute_result",
          "data": {
            "text/plain": [
              "array([0., 1., 0.], dtype=float32)"
            ]
          },
          "metadata": {
            "tags": []
          },
          "execution_count": 33
        }
      ]
    },
    {
      "cell_type": "code",
      "metadata": {
        "id": "FlXbhArAggRk"
      },
      "source": [
        "model = Sequential()\n",
        "model.add(Dense(units=4, activation='relu', input_shape=(4,)))\n",
        "model.add(Dense(units=3, activation='relu'))\n",
        "model.add(Dense(units=2, activation='relu'))\n",
        "model.add(Dense(units=3, activation='softmax'))"
      ],
      "execution_count": 34,
      "outputs": []
    },
    {
      "cell_type": "code",
      "metadata": {
        "colab": {
          "base_uri": "https://localhost:8080/"
        },
        "id": "MiOeeUfZh1Rb",
        "outputId": "1c565dc2-036b-43f3-a029-95b131f4ecfe"
      },
      "source": [
        "model.summary()"
      ],
      "execution_count": 35,
      "outputs": [
        {
          "output_type": "stream",
          "text": [
            "Model: \"sequential_1\"\n",
            "_________________________________________________________________\n",
            "Layer (type)                 Output Shape              Param #   \n",
            "=================================================================\n",
            "dense_4 (Dense)              (None, 4)                 20        \n",
            "_________________________________________________________________\n",
            "dense_5 (Dense)              (None, 3)                 15        \n",
            "_________________________________________________________________\n",
            "dense_6 (Dense)              (None, 2)                 8         \n",
            "_________________________________________________________________\n",
            "dense_7 (Dense)              (None, 3)                 9         \n",
            "=================================================================\n",
            "Total params: 52\n",
            "Trainable params: 52\n",
            "Non-trainable params: 0\n",
            "_________________________________________________________________\n"
          ],
          "name": "stdout"
        }
      ]
    },
    {
      "cell_type": "code",
      "metadata": {
        "id": "Mv8Qe4JBh9v8"
      },
      "source": [
        "model.compile(loss='mean_squared_error', optimizer=SGD(lr=0.01), metrics=['accuracy'])"
      ],
      "execution_count": null,
      "outputs": []
    },
    {
      "cell_type": "code",
      "metadata": {
        "id": "yJk9XLf7iEKy"
      },
      "source": [
        "\n",
        "model.fit(X_train, y_train, batch_size=1, epochs=50, verbose=1, validation_data=(X_valid, y_valid))"
      ],
      "execution_count": null,
      "outputs": []
    },
    {
      "cell_type": "code",
      "metadata": {
        "colab": {
          "base_uri": "https://localhost:8080/"
        },
        "id": "sAzh-6qxmdW6",
        "outputId": "669f7de9-0403-413f-b9ea-76877cfe4952"
      },
      "source": [
        "model.evaluate(X_valid, y_valid)"
      ],
      "execution_count": null,
      "outputs": [
        {
          "output_type": "stream",
          "text": [
            "2/2 [==============================] - 0s 8ms/step - loss: 0.1051 - accuracy: 0.6579\n"
          ],
          "name": "stdout"
        },
        {
          "output_type": "execute_result",
          "data": {
            "text/plain": [
              "[0.10511653125286102, 0.6578947305679321]"
            ]
          },
          "metadata": {
            "tags": []
          },
          "execution_count": 44
        }
      ]
    },
    {
      "cell_type": "code",
      "metadata": {
        "colab": {
          "base_uri": "https://localhost:8080/"
        },
        "id": "giycrSg-kuRM",
        "outputId": "02b1f074-1c62-4311-d22c-79732201c9f2"
      },
      "source": [
        "y_valid[0]"
      ],
      "execution_count": null,
      "outputs": [
        {
          "output_type": "execute_result",
          "data": {
            "text/plain": [
              "array([1., 0., 0.], dtype=float32)"
            ]
          },
          "metadata": {
            "tags": []
          },
          "execution_count": 43
        }
      ]
    },
    {
      "cell_type": "code",
      "metadata": {
        "colab": {
          "base_uri": "https://localhost:8080/"
        },
        "id": "FfBL_RqYkbc6",
        "outputId": "b3b729d4-c848-46c9-88f2-4c75c00488f9"
      },
      "source": [
        "model.predict(X_valid[0].reshape(1,-1))"
      ],
      "execution_count": null,
      "outputs": [
        {
          "output_type": "execute_result",
          "data": {
            "text/plain": [
              "array([[0.7410781 , 0.1862702 , 0.07265177]], dtype=float32)"
            ]
          },
          "metadata": {
            "tags": []
          },
          "execution_count": 45
        }
      ]
    },
    {
      "cell_type": "markdown",
      "metadata": {
        "id": "PO0jHtgrWJCH"
      },
      "source": [
        "##Your Turn\n",
        "- Build a Dense Network using continuous features to predict customer churn\n",
        "- Experiment with different size layers and different activation functions\n",
        "- Think about what activation makes sense for the output layer "
      ]
    },
    {
      "cell_type": "code",
      "metadata": {
        "colab": {
          "resources": {
            "http://localhost:8080/nbextensions/google.colab/files.js": {
              "data": "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",
              "ok": true,
              "headers": [
                [
                  "content-type",
                  "application/javascript"
                ]
              ],
              "status": 200,
              "status_text": ""
            }
          },
          "base_uri": "https://localhost:8080/",
          "height": 90
        },
        "id": "7cJkGNqhUEdw",
        "outputId": "bcad3133-cefd-4363-84ab-0a622d19eeba"
      },
      "source": [
        "from google.colab import files\n",
        "\n",
        "uploaded = files.upload()\n",
        "\n",
        "for fn in uploaded.keys():\n",
        "  print('User uploaded file \"{name}\" with length {length} bytes'.format(\n",
        "      name=fn, length=len(uploaded[fn])))"
      ],
      "execution_count": 36,
      "outputs": [
        {
          "output_type": "display_data",
          "data": {
            "text/html": [
              "\n",
              "     <input type=\"file\" id=\"files-4b1d3af3-c5b1-4a6b-930c-ea6aad8a4507\" name=\"files[]\" multiple disabled\n",
              "        style=\"border:none\" />\n",
              "     <output id=\"result-4b1d3af3-c5b1-4a6b-930c-ea6aad8a4507\">\n",
              "      Upload widget is only available when the cell has been executed in the\n",
              "      current browser session. Please rerun this cell to enable.\n",
              "      </output>\n",
              "      <script src=\"/nbextensions/google.colab/files.js\"></script> "
            ],
            "text/plain": [
              "<IPython.core.display.HTML object>"
            ]
          },
          "metadata": {
            "tags": []
          }
        },
        {
          "output_type": "stream",
          "text": [
            "Saving churn.csv to churn.csv\n",
            "User uploaded file \"churn.csv\" with length 969287 bytes\n"
          ],
          "name": "stdout"
        }
      ]
    },
    {
      "cell_type": "code",
      "metadata": {
        "colab": {
          "base_uri": "https://localhost:8080/",
          "height": 296
        },
        "id": "1eah8pZ4UZ4_",
        "outputId": "4e5855df-6d7d-427e-e0d2-3a2326f44bde"
      },
      "source": [
        "import pandas as pd\n",
        "churn_df = pd.read_csv('churn.csv')\n",
        "churn_df.head()"
      ],
      "execution_count": 37,
      "outputs": [
        {
          "output_type": "execute_result",
          "data": {
            "text/html": [
              "<div>\n",
              "<style scoped>\n",
              "    .dataframe tbody tr th:only-of-type {\n",
              "        vertical-align: middle;\n",
              "    }\n",
              "\n",
              "    .dataframe tbody tr th {\n",
              "        vertical-align: top;\n",
              "    }\n",
              "\n",
              "    .dataframe thead th {\n",
              "        text-align: right;\n",
              "    }\n",
              "</style>\n",
              "<table border=\"1\" class=\"dataframe\">\n",
              "  <thead>\n",
              "    <tr style=\"text-align: right;\">\n",
              "      <th></th>\n",
              "      <th>State</th>\n",
              "      <th>Account Length</th>\n",
              "      <th>Area Code</th>\n",
              "      <th>Phone</th>\n",
              "      <th>Int'l Plan</th>\n",
              "      <th>VMail Plan</th>\n",
              "      <th>VMail Message</th>\n",
              "      <th>Day Mins</th>\n",
              "      <th>Day Calls</th>\n",
              "      <th>Day Charge</th>\n",
              "      <th>Eve Mins</th>\n",
              "      <th>Eve Calls</th>\n",
              "      <th>Eve Charge</th>\n",
              "      <th>Night Mins</th>\n",
              "      <th>Night Calls</th>\n",
              "      <th>Night Charge</th>\n",
              "      <th>Intl Mins</th>\n",
              "      <th>Intl Calls</th>\n",
              "      <th>Intl Charge</th>\n",
              "      <th>CustServ Calls</th>\n",
              "      <th>Churn?</th>\n",
              "    </tr>\n",
              "  </thead>\n",
              "  <tbody>\n",
              "    <tr>\n",
              "      <th>0</th>\n",
              "      <td>PA</td>\n",
              "      <td>163</td>\n",
              "      <td>806</td>\n",
              "      <td>403-2562</td>\n",
              "      <td>no</td>\n",
              "      <td>yes</td>\n",
              "      <td>300</td>\n",
              "      <td>8.162204</td>\n",
              "      <td>3</td>\n",
              "      <td>7.579174</td>\n",
              "      <td>3.933035</td>\n",
              "      <td>4</td>\n",
              "      <td>6.508639</td>\n",
              "      <td>4.065759</td>\n",
              "      <td>100</td>\n",
              "      <td>5.111624</td>\n",
              "      <td>4.928160</td>\n",
              "      <td>6</td>\n",
              "      <td>5.673203</td>\n",
              "      <td>3</td>\n",
              "      <td>True.</td>\n",
              "    </tr>\n",
              "    <tr>\n",
              "      <th>1</th>\n",
              "      <td>SC</td>\n",
              "      <td>15</td>\n",
              "      <td>836</td>\n",
              "      <td>158-8416</td>\n",
              "      <td>yes</td>\n",
              "      <td>no</td>\n",
              "      <td>0</td>\n",
              "      <td>10.018993</td>\n",
              "      <td>4</td>\n",
              "      <td>4.226289</td>\n",
              "      <td>2.325005</td>\n",
              "      <td>0</td>\n",
              "      <td>9.972592</td>\n",
              "      <td>7.141040</td>\n",
              "      <td>200</td>\n",
              "      <td>6.436188</td>\n",
              "      <td>3.221748</td>\n",
              "      <td>6</td>\n",
              "      <td>2.559749</td>\n",
              "      <td>8</td>\n",
              "      <td>False.</td>\n",
              "    </tr>\n",
              "    <tr>\n",
              "      <th>2</th>\n",
              "      <td>MO</td>\n",
              "      <td>131</td>\n",
              "      <td>777</td>\n",
              "      <td>896-6253</td>\n",
              "      <td>no</td>\n",
              "      <td>yes</td>\n",
              "      <td>300</td>\n",
              "      <td>4.708490</td>\n",
              "      <td>3</td>\n",
              "      <td>4.768160</td>\n",
              "      <td>4.537466</td>\n",
              "      <td>3</td>\n",
              "      <td>4.566715</td>\n",
              "      <td>5.363235</td>\n",
              "      <td>100</td>\n",
              "      <td>5.142451</td>\n",
              "      <td>7.139023</td>\n",
              "      <td>2</td>\n",
              "      <td>6.254157</td>\n",
              "      <td>4</td>\n",
              "      <td>False.</td>\n",
              "    </tr>\n",
              "    <tr>\n",
              "      <th>3</th>\n",
              "      <td>WY</td>\n",
              "      <td>75</td>\n",
              "      <td>878</td>\n",
              "      <td>817-5729</td>\n",
              "      <td>yes</td>\n",
              "      <td>yes</td>\n",
              "      <td>700</td>\n",
              "      <td>1.268734</td>\n",
              "      <td>3</td>\n",
              "      <td>2.567642</td>\n",
              "      <td>2.528748</td>\n",
              "      <td>5</td>\n",
              "      <td>2.333624</td>\n",
              "      <td>3.773586</td>\n",
              "      <td>450</td>\n",
              "      <td>3.814413</td>\n",
              "      <td>2.245779</td>\n",
              "      <td>6</td>\n",
              "      <td>1.080692</td>\n",
              "      <td>6</td>\n",
              "      <td>False.</td>\n",
              "    </tr>\n",
              "    <tr>\n",
              "      <th>4</th>\n",
              "      <td>WY</td>\n",
              "      <td>146</td>\n",
              "      <td>878</td>\n",
              "      <td>450-4942</td>\n",
              "      <td>yes</td>\n",
              "      <td>no</td>\n",
              "      <td>0</td>\n",
              "      <td>2.696177</td>\n",
              "      <td>3</td>\n",
              "      <td>5.908916</td>\n",
              "      <td>6.015337</td>\n",
              "      <td>3</td>\n",
              "      <td>3.670408</td>\n",
              "      <td>3.751673</td>\n",
              "      <td>250</td>\n",
              "      <td>2.796812</td>\n",
              "      <td>6.905545</td>\n",
              "      <td>4</td>\n",
              "      <td>7.134343</td>\n",
              "      <td>6</td>\n",
              "      <td>True.</td>\n",
              "    </tr>\n",
              "  </tbody>\n",
              "</table>\n",
              "</div>"
            ],
            "text/plain": [
              "  State  Account Length  Area Code  ... Intl Charge CustServ Calls  Churn?\n",
              "0    PA             163        806  ...    5.673203              3   True.\n",
              "1    SC              15        836  ...    2.559749              8  False.\n",
              "2    MO             131        777  ...    6.254157              4  False.\n",
              "3    WY              75        878  ...    1.080692              6  False.\n",
              "4    WY             146        878  ...    7.134343              6   True.\n",
              "\n",
              "[5 rows x 21 columns]"
            ]
          },
          "metadata": {
            "tags": []
          },
          "execution_count": 37
        }
      ]
    },
    {
      "cell_type": "code",
      "metadata": {
        "id": "fRZmVS7uZYXB",
        "colab": {
          "base_uri": "https://localhost:8080/"
        },
        "outputId": "b132dd0a-3d18-442b-9a6a-2ac095a9cceb"
      },
      "source": [
        "churn_df.info()"
      ],
      "execution_count": 38,
      "outputs": [
        {
          "output_type": "stream",
          "text": [
            "<class 'pandas.core.frame.DataFrame'>\n",
            "RangeIndex: 5000 entries, 0 to 4999\n",
            "Data columns (total 21 columns):\n",
            " #   Column          Non-Null Count  Dtype  \n",
            "---  ------          --------------  -----  \n",
            " 0   State           5000 non-null   object \n",
            " 1   Account Length  5000 non-null   int64  \n",
            " 2   Area Code       5000 non-null   int64  \n",
            " 3   Phone           5000 non-null   object \n",
            " 4   Int'l Plan      5000 non-null   object \n",
            " 5   VMail Plan      5000 non-null   object \n",
            " 6   VMail Message   5000 non-null   int64  \n",
            " 7   Day Mins        5000 non-null   float64\n",
            " 8   Day Calls       5000 non-null   int64  \n",
            " 9   Day Charge      5000 non-null   float64\n",
            " 10  Eve Mins        5000 non-null   float64\n",
            " 11  Eve Calls       5000 non-null   int64  \n",
            " 12  Eve Charge      5000 non-null   float64\n",
            " 13  Night Mins      5000 non-null   float64\n",
            " 14  Night Calls     5000 non-null   int64  \n",
            " 15  Night Charge    5000 non-null   float64\n",
            " 16  Intl Mins       5000 non-null   float64\n",
            " 17  Intl Calls      5000 non-null   int64  \n",
            " 18  Intl Charge     5000 non-null   float64\n",
            " 19  CustServ Calls  5000 non-null   int64  \n",
            " 20  Churn?          5000 non-null   object \n",
            "dtypes: float64(8), int64(8), object(5)\n",
            "memory usage: 820.4+ KB\n"
          ],
          "name": "stdout"
        }
      ]
    },
    {
      "cell_type": "code",
      "metadata": {
        "colab": {
          "base_uri": "https://localhost:8080/",
          "height": 195
        },
        "id": "G_REgN8WX4TL",
        "outputId": "d5a4aba6-9b46-4707-ecef-082ce9f87cce"
      },
      "source": [
        "import numpy as np\n",
        "\n",
        "cols = ['Day Mins', 'Day Charge', 'Eve Mins', 'Eve Charge', 'Night Mins', 'Night Charge', 'Intl Mins', 'Intl Charge', 'CustServ Calls', 'Churn?']\n",
        "churn_data = churn_df[cols].copy()\n",
        "churn_data['Churn'] = np.where(churn_data['Churn?'] =='True.', 1, 0)\n",
        "churn_data.head()"
      ],
      "execution_count": 39,
      "outputs": [
        {
          "output_type": "execute_result",
          "data": {
            "text/html": [
              "<div>\n",
              "<style scoped>\n",
              "    .dataframe tbody tr th:only-of-type {\n",
              "        vertical-align: middle;\n",
              "    }\n",
              "\n",
              "    .dataframe tbody tr th {\n",
              "        vertical-align: top;\n",
              "    }\n",
              "\n",
              "    .dataframe thead th {\n",
              "        text-align: right;\n",
              "    }\n",
              "</style>\n",
              "<table border=\"1\" class=\"dataframe\">\n",
              "  <thead>\n",
              "    <tr style=\"text-align: right;\">\n",
              "      <th></th>\n",
              "      <th>Day Mins</th>\n",
              "      <th>Day Charge</th>\n",
              "      <th>Eve Mins</th>\n",
              "      <th>Eve Charge</th>\n",
              "      <th>Night Mins</th>\n",
              "      <th>Night Charge</th>\n",
              "      <th>Intl Mins</th>\n",
              "      <th>Intl Charge</th>\n",
              "      <th>CustServ Calls</th>\n",
              "      <th>Churn?</th>\n",
              "      <th>Churn</th>\n",
              "    </tr>\n",
              "  </thead>\n",
              "  <tbody>\n",
              "    <tr>\n",
              "      <th>0</th>\n",
              "      <td>8.162204</td>\n",
              "      <td>7.579174</td>\n",
              "      <td>3.933035</td>\n",
              "      <td>6.508639</td>\n",
              "      <td>4.065759</td>\n",
              "      <td>5.111624</td>\n",
              "      <td>4.928160</td>\n",
              "      <td>5.673203</td>\n",
              "      <td>3</td>\n",
              "      <td>True.</td>\n",
              "      <td>1</td>\n",
              "    </tr>\n",
              "    <tr>\n",
              "      <th>1</th>\n",
              "      <td>10.018993</td>\n",
              "      <td>4.226289</td>\n",
              "      <td>2.325005</td>\n",
              "      <td>9.972592</td>\n",
              "      <td>7.141040</td>\n",
              "      <td>6.436188</td>\n",
              "      <td>3.221748</td>\n",
              "      <td>2.559749</td>\n",
              "      <td>8</td>\n",
              "      <td>False.</td>\n",
              "      <td>0</td>\n",
              "    </tr>\n",
              "    <tr>\n",
              "      <th>2</th>\n",
              "      <td>4.708490</td>\n",
              "      <td>4.768160</td>\n",
              "      <td>4.537466</td>\n",
              "      <td>4.566715</td>\n",
              "      <td>5.363235</td>\n",
              "      <td>5.142451</td>\n",
              "      <td>7.139023</td>\n",
              "      <td>6.254157</td>\n",
              "      <td>4</td>\n",
              "      <td>False.</td>\n",
              "      <td>0</td>\n",
              "    </tr>\n",
              "    <tr>\n",
              "      <th>3</th>\n",
              "      <td>1.268734</td>\n",
              "      <td>2.567642</td>\n",
              "      <td>2.528748</td>\n",
              "      <td>2.333624</td>\n",
              "      <td>3.773586</td>\n",
              "      <td>3.814413</td>\n",
              "      <td>2.245779</td>\n",
              "      <td>1.080692</td>\n",
              "      <td>6</td>\n",
              "      <td>False.</td>\n",
              "      <td>0</td>\n",
              "    </tr>\n",
              "    <tr>\n",
              "      <th>4</th>\n",
              "      <td>2.696177</td>\n",
              "      <td>5.908916</td>\n",
              "      <td>6.015337</td>\n",
              "      <td>3.670408</td>\n",
              "      <td>3.751673</td>\n",
              "      <td>2.796812</td>\n",
              "      <td>6.905545</td>\n",
              "      <td>7.134343</td>\n",
              "      <td>6</td>\n",
              "      <td>True.</td>\n",
              "      <td>1</td>\n",
              "    </tr>\n",
              "  </tbody>\n",
              "</table>\n",
              "</div>"
            ],
            "text/plain": [
              "    Day Mins  Day Charge  Eve Mins  ...  CustServ Calls  Churn?  Churn\n",
              "0   8.162204    7.579174  3.933035  ...               3   True.      1\n",
              "1  10.018993    4.226289  2.325005  ...               8  False.      0\n",
              "2   4.708490    4.768160  4.537466  ...               4  False.      0\n",
              "3   1.268734    2.567642  2.528748  ...               6  False.      0\n",
              "4   2.696177    5.908916  6.015337  ...               6   True.      1\n",
              "\n",
              "[5 rows x 11 columns]"
            ]
          },
          "metadata": {
            "tags": []
          },
          "execution_count": 39
        }
      ]
    },
    {
      "cell_type": "code",
      "metadata": {
        "colab": {
          "base_uri": "https://localhost:8080/"
        },
        "id": "LZ0SrFGWcAmV",
        "outputId": "4a3b37bd-5bdc-499c-863e-7ff3621e77d2"
      },
      "source": [
        "churn_data['Churn'].value_counts()"
      ],
      "execution_count": 40,
      "outputs": [
        {
          "output_type": "execute_result",
          "data": {
            "text/plain": [
              "0    2502\n",
              "1    2498\n",
              "Name: Churn, dtype: int64"
            ]
          },
          "metadata": {
            "tags": []
          },
          "execution_count": 40
        }
      ]
    },
    {
      "cell_type": "code",
      "metadata": {
        "colab": {
          "base_uri": "https://localhost:8080/"
        },
        "id": "J9VZJu35bD5N",
        "outputId": "717f6414-21b9-43f3-ad0d-6e043d45b435"
      },
      "source": [
        "features = ['Day Mins', 'Day Charge', 'Eve Mins', 'Eve Charge', 'Night Mins', 'Night Charge', 'Intl Mins', 'Intl Charge', 'CustServ Calls']\n",
        "target = 'Churn'\n",
        "\n",
        "X = churn_data[features].values\n",
        "y = churn_data[target].values\n",
        "X.shape, y.shape"
      ],
      "execution_count": 41,
      "outputs": [
        {
          "output_type": "execute_result",
          "data": {
            "text/plain": [
              "((5000, 9), (5000,))"
            ]
          },
          "metadata": {
            "tags": []
          },
          "execution_count": 41
        }
      ]
    },
    {
      "cell_type": "code",
      "metadata": {
        "colab": {
          "base_uri": "https://localhost:8080/"
        },
        "id": "rnkjk7SieiU6",
        "outputId": "94a83aa8-0a45-4bd3-ca00-a814d023fb7b"
      },
      "source": [
        "from sklearn.model_selection import train_test_split\n",
        "\n",
        "X_train, X_valid, y_train, y_valid = train_test_split(X, y, test_size=0.25, random_state=0)\n",
        "\n",
        "X_train.shape, X_valid.shape, y_train.shape, y_valid.shape"
      ],
      "execution_count": 42,
      "outputs": [
        {
          "output_type": "execute_result",
          "data": {
            "text/plain": [
              "((3750, 9), (1250, 9), (3750,), (1250,))"
            ]
          },
          "metadata": {
            "tags": []
          },
          "execution_count": 42
        }
      ]
    },
    {
      "cell_type": "code",
      "metadata": {
        "colab": {
          "base_uri": "https://localhost:8080/"
        },
        "id": "lkR8HIEghGrq",
        "outputId": "3b3a439f-daf2-4759-8629-4d84401aaa68"
      },
      "source": [
        "X_train"
      ],
      "execution_count": 43,
      "outputs": [
        {
          "output_type": "execute_result",
          "data": {
            "text/plain": [
              "array([[13.23664371, 11.00768366,  5.54973717, ...,  6.12155121,\n",
              "         3.12411923,  3.        ],\n",
              "       [ 3.64623966,  4.11254353,  2.83378984, ...,  5.58227412,\n",
              "         2.96599581,  7.        ],\n",
              "       [ 0.53955568,  3.66313094,  0.08811627, ...,  4.46893939,\n",
              "         1.29072559,  4.        ],\n",
              "       ...,\n",
              "       [10.40811761,  6.20244068,  7.00614012, ...,  4.32914583,\n",
              "         4.21910436,  3.        ],\n",
              "       [10.0109857 ,  7.35504399,  6.7736002 , ...,  3.69210465,\n",
              "         6.18139625,  4.        ],\n",
              "       [ 1.65060626,  4.23125228,  4.88634033, ...,  6.5126707 ,\n",
              "         3.49669158,  5.        ]])"
            ]
          },
          "metadata": {
            "tags": []
          },
          "execution_count": 43
        }
      ]
    },
    {
      "cell_type": "code",
      "metadata": {
        "colab": {
          "base_uri": "https://localhost:8080/"
        },
        "id": "KjtKtLGYhJpu",
        "outputId": "d9a1b7be-13ef-4ae3-9fd6-459da0fed73e"
      },
      "source": [
        "y_train"
      ],
      "execution_count": 44,
      "outputs": [
        {
          "output_type": "execute_result",
          "data": {
            "text/plain": [
              "array([1, 0, 0, ..., 1, 1, 0])"
            ]
          },
          "metadata": {
            "tags": []
          },
          "execution_count": 44
        }
      ]
    },
    {
      "cell_type": "markdown",
      "metadata": {
        "id": "1BXUSmc4qz12"
      },
      "source": [
        "Consider whether you should normalize using:\n",
        "https://keras.io/api/utils/python_utils/#normalize-function"
      ]
    },
    {
      "cell_type": "code",
      "metadata": {
        "colab": {
          "base_uri": "https://localhost:8080/"
        },
        "id": "XmUFFrOCqZ29",
        "outputId": "b87fb306-8594-400e-b4c4-a9c513599bd4"
      },
      "source": [
        "from tensorflow.keras.utils import normalize\n",
        "normalize(X_train)"
      ],
      "execution_count": 46,
      "outputs": [
        {
          "output_type": "execute_result",
          "data": {
            "text/plain": [
              "array([[0.58607787, 0.48738637, 0.24572529, ..., 0.27104346, 0.13832639,\n",
              "        0.13283077],\n",
              "       [0.26781313, 0.30206275, 0.2081394 , ..., 0.41001318, 0.21784981,\n",
              "        0.51414392],\n",
              "       [0.05635927, 0.3826322 , 0.00920418, ..., 0.4668029 , 0.13482269,\n",
              "        0.41781985],\n",
              "       ...,\n",
              "       [0.55363115, 0.32992175, 0.37267233, ..., 0.23027699, 0.22442364,\n",
              "        0.15957674],\n",
              "       [0.51603819, 0.37913186, 0.34916006, ..., 0.19031762, 0.31863361,\n",
              "        0.20618876],\n",
              "       [0.13923357, 0.35691877, 0.41217741, ..., 0.54936323, 0.29495638,\n",
              "        0.42176494]])"
            ]
          },
          "metadata": {
            "tags": []
          },
          "execution_count": 46
        }
      ]
    },
    {
      "cell_type": "code",
      "metadata": {
        "id": "28Iqw-PMLgcD"
      },
      "source": [
        "model = Sequential()\n",
        "model.add(Dense(units=4, activation='relu', input_shape=(9,)))\n",
        "model.add(Dense(units=7, activation='relu'))\n",
        "model.add(Dense(units=5, activation='relu'))\n",
        "model.add(Dense(units=1, activation='sigmoid'))"
      ],
      "execution_count": 87,
      "outputs": []
    },
    {
      "cell_type": "code",
      "metadata": {
        "colab": {
          "base_uri": "https://localhost:8080/"
        },
        "id": "ByvfyVRPLzCa",
        "outputId": "0cd341f9-2097-46c6-82e1-65cd477f5db0"
      },
      "source": [
        "model.summary()"
      ],
      "execution_count": 88,
      "outputs": [
        {
          "output_type": "stream",
          "text": [
            "Model: \"sequential_13\"\n",
            "_________________________________________________________________\n",
            "Layer (type)                 Output Shape              Param #   \n",
            "=================================================================\n",
            "dense_52 (Dense)             (None, 4)                 40        \n",
            "_________________________________________________________________\n",
            "dense_53 (Dense)             (None, 7)                 35        \n",
            "_________________________________________________________________\n",
            "dense_54 (Dense)             (None, 5)                 40        \n",
            "_________________________________________________________________\n",
            "dense_55 (Dense)             (None, 1)                 6         \n",
            "=================================================================\n",
            "Total params: 121\n",
            "Trainable params: 121\n",
            "Non-trainable params: 0\n",
            "_________________________________________________________________\n"
          ],
          "name": "stdout"
        }
      ]
    },
    {
      "cell_type": "code",
      "metadata": {
        "id": "JBA272UFMMPn"
      },
      "source": [
        "model.compile(loss='mean_squared_error', optimizer=SGD(learning_rate=0.01), metrics=['accuracy'])"
      ],
      "execution_count": 89,
      "outputs": []
    },
    {
      "cell_type": "code",
      "metadata": {
        "colab": {
          "base_uri": "https://localhost:8080/"
        },
        "id": "t5VENxyVMUHf",
        "outputId": "87f5a26d-6a40-4ec8-eb0f-5f431e0ebd2c"
      },
      "source": [
        "model.fit(X_train, y_train, batch_size=1, epochs=30, verbose=1, validation_data=(X_valid, y_valid))"
      ],
      "execution_count": 90,
      "outputs": [
        {
          "output_type": "stream",
          "text": [
            "Epoch 1/30\n",
            "3750/3750 [==============================] - 5s 1ms/step - loss: 0.1859 - accuracy: 0.7330 - val_loss: 0.1503 - val_accuracy: 0.7880\n",
            "Epoch 2/30\n",
            "3750/3750 [==============================] - 4s 1ms/step - loss: 0.1505 - accuracy: 0.7857 - val_loss: 0.1508 - val_accuracy: 0.7904\n",
            "Epoch 3/30\n",
            "3750/3750 [==============================] - 4s 1ms/step - loss: 0.1481 - accuracy: 0.7966 - val_loss: 0.1646 - val_accuracy: 0.7680\n",
            "Epoch 4/30\n",
            "3750/3750 [==============================] - 4s 1ms/step - loss: 0.1451 - accuracy: 0.8025 - val_loss: 0.1468 - val_accuracy: 0.7992\n",
            "Epoch 5/30\n",
            "3750/3750 [==============================] - 4s 1ms/step - loss: 0.1416 - accuracy: 0.7972 - val_loss: 0.1485 - val_accuracy: 0.7960\n",
            "Epoch 6/30\n",
            "3750/3750 [==============================] - 4s 1ms/step - loss: 0.1421 - accuracy: 0.7933 - val_loss: 0.1464 - val_accuracy: 0.7832\n",
            "Epoch 7/30\n",
            "3750/3750 [==============================] - 4s 1ms/step - loss: 0.1375 - accuracy: 0.8037 - val_loss: 0.1458 - val_accuracy: 0.7936\n",
            "Epoch 8/30\n",
            "3750/3750 [==============================] - 4s 1ms/step - loss: 0.1390 - accuracy: 0.8046 - val_loss: 0.1478 - val_accuracy: 0.7888\n",
            "Epoch 9/30\n",
            "3750/3750 [==============================] - 4s 1ms/step - loss: 0.1400 - accuracy: 0.8084 - val_loss: 0.1402 - val_accuracy: 0.8024\n",
            "Epoch 10/30\n",
            "3750/3750 [==============================] - 4s 1ms/step - loss: 0.1361 - accuracy: 0.8114 - val_loss: 0.1325 - val_accuracy: 0.8240\n",
            "Epoch 11/30\n",
            "3750/3750 [==============================] - 4s 1ms/step - loss: 0.1257 - accuracy: 0.8333 - val_loss: 0.1285 - val_accuracy: 0.8248\n",
            "Epoch 12/30\n",
            "3750/3750 [==============================] - 4s 1ms/step - loss: 0.1227 - accuracy: 0.8318 - val_loss: 0.1209 - val_accuracy: 0.8352\n",
            "Epoch 13/30\n",
            "3750/3750 [==============================] - 4s 1ms/step - loss: 0.1076 - accuracy: 0.8540 - val_loss: 0.1307 - val_accuracy: 0.8104\n",
            "Epoch 14/30\n",
            "3750/3750 [==============================] - 4s 1ms/step - loss: 0.1027 - accuracy: 0.8551 - val_loss: 0.1065 - val_accuracy: 0.8608\n",
            "Epoch 15/30\n",
            "3750/3750 [==============================] - 4s 1ms/step - loss: 0.0985 - accuracy: 0.8626 - val_loss: 0.1062 - val_accuracy: 0.8552\n",
            "Epoch 16/30\n",
            "3750/3750 [==============================] - 4s 1ms/step - loss: 0.1012 - accuracy: 0.8644 - val_loss: 0.1014 - val_accuracy: 0.8576\n",
            "Epoch 17/30\n",
            "3750/3750 [==============================] - 4s 1ms/step - loss: 0.0990 - accuracy: 0.8642 - val_loss: 0.0996 - val_accuracy: 0.8688\n",
            "Epoch 18/30\n",
            "3750/3750 [==============================] - 4s 1ms/step - loss: 0.0952 - accuracy: 0.8739 - val_loss: 0.0981 - val_accuracy: 0.8680\n",
            "Epoch 19/30\n",
            "3750/3750 [==============================] - 4s 1ms/step - loss: 0.0896 - accuracy: 0.8807 - val_loss: 0.1030 - val_accuracy: 0.8592\n",
            "Epoch 20/30\n",
            "3750/3750 [==============================] - 4s 1ms/step - loss: 0.0959 - accuracy: 0.8702 - val_loss: 0.0993 - val_accuracy: 0.8712\n",
            "Epoch 21/30\n",
            "3750/3750 [==============================] - 4s 1ms/step - loss: 0.0971 - accuracy: 0.8692 - val_loss: 0.0949 - val_accuracy: 0.8752\n",
            "Epoch 22/30\n",
            "3750/3750 [==============================] - 4s 1ms/step - loss: 0.0911 - accuracy: 0.8801 - val_loss: 0.0954 - val_accuracy: 0.8688\n",
            "Epoch 23/30\n",
            "3750/3750 [==============================] - 4s 1ms/step - loss: 0.0912 - accuracy: 0.8751 - val_loss: 0.1296 - val_accuracy: 0.8192\n",
            "Epoch 24/30\n",
            "3750/3750 [==============================] - 4s 1ms/step - loss: 0.0953 - accuracy: 0.8706 - val_loss: 0.0951 - val_accuracy: 0.8752\n",
            "Epoch 25/30\n",
            "3750/3750 [==============================] - 4s 1ms/step - loss: 0.0919 - accuracy: 0.8783 - val_loss: 0.1033 - val_accuracy: 0.8584\n",
            "Epoch 26/30\n",
            "3750/3750 [==============================] - 4s 1ms/step - loss: 0.0908 - accuracy: 0.8761 - val_loss: 0.1145 - val_accuracy: 0.8488\n",
            "Epoch 27/30\n",
            "3750/3750 [==============================] - 4s 1ms/step - loss: 0.0952 - accuracy: 0.8692 - val_loss: 0.0892 - val_accuracy: 0.8840\n",
            "Epoch 28/30\n",
            "3750/3750 [==============================] - 4s 1ms/step - loss: 0.0882 - accuracy: 0.8826 - val_loss: 0.0990 - val_accuracy: 0.8648\n",
            "Epoch 29/30\n",
            "3750/3750 [==============================] - 4s 1ms/step - loss: 0.0892 - accuracy: 0.8810 - val_loss: 0.0914 - val_accuracy: 0.8816\n",
            "Epoch 30/30\n",
            "3750/3750 [==============================] - 4s 1ms/step - loss: 0.0865 - accuracy: 0.8859 - val_loss: 0.0898 - val_accuracy: 0.8792\n"
          ],
          "name": "stdout"
        },
        {
          "output_type": "execute_result",
          "data": {
            "text/plain": [
              "<keras.callbacks.History at 0x7ff345df2fd0>"
            ]
          },
          "metadata": {
            "tags": []
          },
          "execution_count": 90
        }
      ]
    },
    {
      "cell_type": "code",
      "metadata": {
        "colab": {
          "base_uri": "https://localhost:8080/"
        },
        "id": "nUOwQi2kNQv7",
        "outputId": "8c0bd8bd-04b9-4f49-fd94-5085d0ccab3d"
      },
      "source": [
        "model.evaluate(X_valid, y_valid)"
      ],
      "execution_count": 91,
      "outputs": [
        {
          "output_type": "stream",
          "text": [
            "40/40 [==============================] - 0s 2ms/step - loss: 0.0898 - accuracy: 0.8792\n"
          ],
          "name": "stdout"
        },
        {
          "output_type": "execute_result",
          "data": {
            "text/plain": [
              "[0.08977027237415314, 0.8791999816894531]"
            ]
          },
          "metadata": {
            "tags": []
          },
          "execution_count": 91
        }
      ]
    },
    {
      "cell_type": "code",
      "metadata": {
        "colab": {
          "base_uri": "https://localhost:8080/"
        },
        "id": "OCiK4j3RNQ7V",
        "outputId": "494f481e-ff62-49cc-d1af-b15862ec1911"
      },
      "source": [
        "y_valid[0]"
      ],
      "execution_count": 92,
      "outputs": [
        {
          "output_type": "execute_result",
          "data": {
            "text/plain": [
              "0"
            ]
          },
          "metadata": {
            "tags": []
          },
          "execution_count": 92
        }
      ]
    },
    {
      "cell_type": "code",
      "metadata": {
        "colab": {
          "base_uri": "https://localhost:8080/"
        },
        "id": "dUgBJIA1NRDv",
        "outputId": "42b5d284-42db-4c9b-80b9-08bece855b37"
      },
      "source": [
        "model.predict(X_valid[0].reshape(1,-1))"
      ],
      "execution_count": 93,
      "outputs": [
        {
          "output_type": "execute_result",
          "data": {
            "text/plain": [
              "array([[3.5282855e-07]], dtype=float32)"
            ]
          },
          "metadata": {
            "tags": []
          },
          "execution_count": 93
        }
      ]
    }
  ]
}